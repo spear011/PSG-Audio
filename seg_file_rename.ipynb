{
 "cells": [
  {
   "cell_type": "code",
   "execution_count": 1,
   "metadata": {},
   "outputs": [],
   "source": [
    "import pandas as pd\n",
    "import os\n",
    "\n",
    "from utils import *"
   ]
  },
  {
   "cell_type": "code",
   "execution_count": 2,
   "metadata": {},
   "outputs": [],
   "source": [
    "data_path = 'E:/REM Detection/psg_audio_dataset/input_audio_data/sliced_wav/'"
   ]
  },
  {
   "cell_type": "code",
   "execution_count": 3,
   "metadata": {},
   "outputs": [],
   "source": [
    "patient_id_list = []\n",
    "\n",
    "for folder in os.listdir(data_path):\n",
    "    patient_id_list.append(folder)"
   ]
  },
  {
   "cell_type": "code",
   "execution_count": null,
   "metadata": {},
   "outputs": [],
   "source": [
    "patient_id_list"
   ]
  },
  {
   "cell_type": "code",
   "execution_count": 5,
   "metadata": {},
   "outputs": [],
   "source": [
    "def get_wav_files_list(data_path, patient_id):\n",
    "    wav_file_list = []\n",
    "    for wav_file in glob.glob(data_path + patient_id + '/*.wav'):\n",
    "        wav_file_list.append(wav_file)\n",
    "    return wav_file_list\n",
    "\n",
    "def get_wav_file_name(wav_file_path):   \n",
    "    return os.path.basename(wav_file_path).split('.')[0]\n",
    "\n",
    "def make_new_file_name(wav_file_path):\n",
    "    file_name = get_wav_file_name(wav_file_path)\n",
    "    new_index = file_name.split('_')[-2].zfill(3)\n",
    "    current_sliced_index = file_name.split('_')[-1]\n",
    "    new_file_name = file_name[:11] + '_' + new_index + '_' + current_sliced_index\n",
    "    return new_file_name\n",
    "\n",
    "def rename_wav_files(data_path, patient_id):\n",
    "    wav_file_list = get_wav_files_list(data_path, patient_id)\n",
    "    for wav_file in wav_file_list:\n",
    "        new_file_name = make_new_file_name(wav_file)\n",
    "        os.rename(wav_file, data_path + patient_id + '/' + new_file_name + '.wav')"
   ]
  },
  {
   "cell_type": "code",
   "execution_count": 6,
   "metadata": {},
   "outputs": [],
   "source": [
    "for patient_id in patient_id_list:\n",
    "    rename_wav_files(data_path, patient_id)"
   ]
  },
  {
   "cell_type": "code",
   "execution_count": 17,
   "metadata": {},
   "outputs": [],
   "source": [
    "file_name = get_wav_file_name(wav_file_list[1])\n",
    "\n",
    "# new_index = file_name.split('_')[-1].zfill(3)\n",
    "# new_file_name = file_name[:file_name.rfind('_')] + '_' + new_index"
   ]
  },
  {
   "cell_type": "code",
   "execution_count": 18,
   "metadata": {},
   "outputs": [
    {
     "data": {
      "text/plain": [
       "'001'"
      ]
     },
     "execution_count": 18,
     "metadata": {},
     "output_type": "execute_result"
    }
   ],
   "source": [
    "current_index = file_name.split('_')[-1]\n",
    "current_index"
   ]
  },
  {
   "cell_type": "code",
   "execution_count": 20,
   "metadata": {},
   "outputs": [],
   "source": [
    "new_index = file_name.split('_')[-2].zfill(3)"
   ]
  },
  {
   "cell_type": "code",
   "execution_count": 23,
   "metadata": {},
   "outputs": [
    {
     "data": {
      "text/plain": [
       "14"
      ]
     },
     "execution_count": 23,
     "metadata": {},
     "output_type": "execute_result"
    }
   ],
   "source": [
    "file_name.rfind('_')"
   ]
  },
  {
   "cell_type": "code",
   "execution_count": 30,
   "metadata": {},
   "outputs": [
    {
     "data": {
      "text/plain": [
       "'00000995_01_000_001'"
      ]
     },
     "execution_count": 30,
     "metadata": {},
     "output_type": "execute_result"
    }
   ],
   "source": [
    "file_name[:11] + '_' + new_index + '_' + current_index"
   ]
  },
  {
   "cell_type": "code",
   "execution_count": null,
   "metadata": {},
   "outputs": [],
   "source": []
  }
 ],
 "metadata": {
  "kernelspec": {
   "display_name": "rem_projects",
   "language": "python",
   "name": "python3"
  },
  "language_info": {
   "codemirror_mode": {
    "name": "ipython",
    "version": 3
   },
   "file_extension": ".py",
   "mimetype": "text/x-python",
   "name": "python",
   "nbconvert_exporter": "python",
   "pygments_lexer": "ipython3",
   "version": "3.9.0"
  },
  "orig_nbformat": 4
 },
 "nbformat": 4,
 "nbformat_minor": 2
}

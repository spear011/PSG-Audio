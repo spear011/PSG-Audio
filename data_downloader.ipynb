{
 "cells": [
  {
   "cell_type": "code",
   "execution_count": 1,
   "metadata": {},
   "outputs": [],
   "source": [
    "import urllib.request\n",
    "import os\n",
    "from tqdm import tqdm\n",
    "import requests\n",
    "import re\n",
    "from urllib.parse import unquote\n",
    "from IPython.display import clear_output\n",
    "\n",
    "from dotenv import load_dotenv\n"
   ]
  },
  {
   "cell_type": "code",
   "execution_count": 2,
   "metadata": {},
   "outputs": [],
   "source": [
    "save_dir = 'E:/REM Detection/Data'\n",
    "url_path = './data/psg_audio/data_url.txt'\n"
   ]
  },
  {
   "cell_type": "code",
   "execution_count": 3,
   "metadata": {},
   "outputs": [],
   "source": [
    "from slack_bolt import App\n",
    "load_dotenv()\n",
    "SLACK_BOT_TOKEN = os.environ.get('SLACK_BOT_TOKEN')\n",
    "SLACK_CHANNEL_ID = os.environ.get('SLACK_CHANNEL_ID')\n",
    "app = App(token = SLACK_BOT_TOKEN)\n"
   ]
  },
  {
   "cell_type": "code",
   "execution_count": 4,
   "metadata": {},
   "outputs": [],
   "source": [
    "import time\n",
    "import random"
   ]
  },
  {
   "cell_type": "code",
   "execution_count": 5,
   "metadata": {},
   "outputs": [
    {
     "name": "stdout",
     "output_type": "stream",
     "text": [
      "2024 https://download.scidb.cn/download?fileId=62d8cba13ebd014ba21e0886&dataSetType=personal&fileName=00001656-100507%5B006%5D.edf\n",
      "\n"
     ]
    },
    {
     "ename": "AttributeError",
     "evalue": "'App' object has no attribute 'close'",
     "output_type": "error",
     "traceback": [
      "\u001b[1;31m---------------------------------------------------------------------------\u001b[0m",
      "\u001b[1;31mAttributeError\u001b[0m                            Traceback (most recent call last)",
      "\u001b[1;32m<ipython-input-5-86d0212e643b>\u001b[0m in \u001b[0;36m<module>\u001b[1;34m\u001b[0m\n\u001b[0;32m     60\u001b[0m     \u001b[0mresponse\u001b[0m \u001b[1;33m=\u001b[0m \u001b[0mapp\u001b[0m\u001b[1;33m.\u001b[0m\u001b[0mclient\u001b[0m\u001b[1;33m.\u001b[0m\u001b[0mchat_postMessage\u001b[0m\u001b[1;33m(\u001b[0m\u001b[0mchannel\u001b[0m\u001b[1;33m=\u001b[0m\u001b[0mSLACK_CHANNEL_ID\u001b[0m\u001b[1;33m,\u001b[0m \u001b[0mtext\u001b[0m\u001b[1;33m=\u001b[0m\u001b[0mmessage\u001b[0m\u001b[1;33m)\u001b[0m\u001b[1;33m\u001b[0m\u001b[1;33m\u001b[0m\u001b[0m\n\u001b[0;32m     61\u001b[0m \u001b[1;33m\u001b[0m\u001b[0m\n\u001b[1;32m---> 62\u001b[1;33m \u001b[0mapp\u001b[0m\u001b[1;33m.\u001b[0m\u001b[0mclose\u001b[0m\u001b[1;33m(\u001b[0m\u001b[1;33m)\u001b[0m\u001b[1;33m\u001b[0m\u001b[1;33m\u001b[0m\u001b[0m\n\u001b[0m",
      "\u001b[1;31mAttributeError\u001b[0m: 'App' object has no attribute 'close'"
     ]
    }
   ],
   "source": [
    "# rml and edf subdirectories are created only if they do not exist\n",
    "rml_dir = os.path.join(save_dir, 'rml')\n",
    "if not os.path.exists(rml_dir):\n",
    "    os.makedirs(rml_dir)\n",
    "\n",
    "# Create subdirectory for alternate .rml files with same name\n",
    "rml_alter_dir = os.path.join(save_dir, 'rml_alter')\n",
    "if not os.path.exists(rml_alter_dir):\n",
    "    os.makedirs(rml_alter_dir)\n",
    "\n",
    "# Dictionary to store the number of times each base .rml filename appears\n",
    "rml_counts = {}\n",
    "\n",
    "with open(url_path, 'r') as file:\n",
    "    urls = file.readlines() \n",
    "\n",
    "restart_id = 1967\n",
    "\n",
    "for i, url in enumerate(urls):\n",
    "\n",
    "    clear_output(wait=True)\n",
    "    if i < restart_id:\n",
    "        continue\n",
    "\n",
    "    print(i, url)\n",
    "\n",
    "\n",
    "    url = url.strip()  # Remove any leading/trailing white space\n",
    "    filename = re.findall(r'fileName=(.+)', url)[0]  # Extract the file name using regex\n",
    "    file_extension = os.path.splitext(filename)[1].lower()  # Extract the file extension\n",
    "    if file_extension == '.edf':\n",
    "        # Replace %5B and %5D with [ and ] using unquote()\n",
    "        filename = unquote(filename)\n",
    "        # Remove '-100507' substring from filename\n",
    "        filename = filename.replace('-100507', '').replace('[', '_').replace(']', '')\n",
    "        # Split the file name to extract the base name without the extension\n",
    "        basename = os.path.splitext(filename)[0].split('_')[0]\n",
    "        # Create a subdirectory for the file\n",
    "        subdir = os.path.join(save_dir, basename)\n",
    "        if not os.path.exists(subdir):\n",
    "            os.makedirs(subdir)\n",
    "        # Construct the file path as save_dir/basename/filename\n",
    "        file_path = os.path.join(subdir, filename)\n",
    "    elif file_extension == '.rml':\n",
    "        # Check if the base filename already exists in the rml directory\n",
    "        basename = os.path.splitext(filename)[0]\n",
    "        if basename in rml_counts:\n",
    "            # If the base filename already exists, move the file to the rml_alter directory\n",
    "            file_path = os.path.join(rml_alter_dir, filename)\n",
    "        else:\n",
    "            # If the base filename does not exist, increment the count and save the file to the rml directory\n",
    "            rml_counts[basename] = 1\n",
    "            file_path = os.path.join(rml_dir, filename)\n",
    "    else:\n",
    "        file_path = os.path.join(save_dir, filename)\n",
    "    urllib.request.urlretrieve(url, file_path)\n",
    "\n",
    "    time.sleep(random.randint(5, 10))\n",
    "    message = f\"{file_extension} file '{filename}' has been downloaded. Number of Index is {i} of {len(urls)}\"\n",
    "    response = app.client.chat_postMessage(channel=SLACK_CHANNEL_ID, text=message)\n",
    "\n",
    "app.close()\n"
   ]
  }
 ],
 "metadata": {
  "kernelspec": {
   "display_name": "rem_projects",
   "language": "python",
   "name": "python3"
  },
  "language_info": {
   "codemirror_mode": {
    "name": "ipython",
    "version": 3
   },
   "file_extension": ".py",
   "mimetype": "text/x-python",
   "name": "python",
   "nbconvert_exporter": "python",
   "pygments_lexer": "ipython3",
   "version": "3.9.0"
  },
  "orig_nbformat": 4,
  "vscode": {
   "interpreter": {
    "hash": "0c617eccd62692b7a47c14a033a53f7184055873b06c730cfdbda6b4494bc8b6"
   }
  }
 },
 "nbformat": 4,
 "nbformat_minor": 2
}

{
 "cells": [
  {
   "cell_type": "code",
   "execution_count": 52,
   "metadata": {},
   "outputs": [],
   "source": [
    "import urllib.request\n",
    "import os\n",
    "from tqdm import tqdm\n",
    "import requests\n",
    "import re\n",
    "from urllib.parse import unquote"
   ]
  },
  {
   "cell_type": "code",
   "execution_count": 53,
   "metadata": {},
   "outputs": [],
   "source": [
    "save_dir = 'E:/REM Detection/Data'\n",
    "url_path = './data/psg_audio/data_url.txt'"
   ]
  },
  {
   "cell_type": "code",
   "execution_count": 57,
   "metadata": {},
   "outputs": [
    {
     "name": "stderr",
     "output_type": "stream",
     "text": [
      " 24%|██▍       | 484/2025 [10:49<23:54:08, 55.84s/it]"
     ]
    }
   ],
   "source": [
    "# rml and edf subdirectories are created only if they do not exist\n",
    "rml_dir = os.path.join(save_dir, 'rml')\n",
    "if not os.path.exists(rml_dir):\n",
    "    os.makedirs(rml_dir)\n",
    "\n",
    "# Create subdirectory for alternate .rml files with same name\n",
    "rml_alter_dir = os.path.join(save_dir, 'rml_alter')\n",
    "if not os.path.exists(rml_alter_dir):\n",
    "    os.makedirs(rml_alter_dir)\n",
    "\n",
    "# Dictionary to store the number of times each base .rml filename appears\n",
    "rml_counts = {}\n",
    "\n",
    "with open(url_path, 'r') as file:\n",
    "    urls = file.readlines() \n",
    "\n",
    "for url in tqdm(urls):\n",
    "    url = url.strip()  # Remove any leading/trailing white space\n",
    "    filename = re.findall(r'fileName=(.+)', url)[0]  # Extract the file name using regex\n",
    "    file_extension = os.path.splitext(filename)[1].lower()  # Extract the file extension\n",
    "    if file_extension == '.edf':\n",
    "        # Replace %5B and %5D with [ and ] using unquote()\n",
    "        filename = unquote(filename)\n",
    "        # Remove '-100507' substring from filename\n",
    "        filename = filename.replace('-100507', '').replace('[', '_').replace(']', '')\n",
    "        # Split the file name to extract the base name without the extension\n",
    "        basename = os.path.splitext(filename)[0].split('_')[0]\n",
    "        # Create a subdirectory for the file\n",
    "        subdir = os.path.join(save_dir, basename)\n",
    "        if not os.path.exists(subdir):\n",
    "            os.makedirs(subdir)\n",
    "        # Construct the file path as save_dir/basename/filename\n",
    "        file_path = os.path.join(subdir, filename)\n",
    "    elif file_extension == '.rml':\n",
    "        # Check if the base filename already exists in the rml directory\n",
    "        basename = os.path.splitext(filename)[0]\n",
    "        if basename in rml_counts:\n",
    "            # If the base filename already exists, move the file to the rml_alter directory\n",
    "            file_path = os.path.join(rml_alter_dir, filename)\n",
    "        else:\n",
    "            # If the base filename does not exist, increment the count and save the file to the rml directory\n",
    "            rml_counts[basename] = 1\n",
    "            file_path = os.path.join(rml_dir, filename)\n",
    "    else:\n",
    "        file_path = os.path.join(save_dir, filename)\n",
    "    urllib.request.urlretrieve(url, file_path)\n"
   ]
  },
  {
   "cell_type": "code",
   "execution_count": null,
   "metadata": {},
   "outputs": [],
   "source": []
  }
 ],
 "metadata": {
  "kernelspec": {
   "display_name": "rem_projects",
   "language": "python",
   "name": "python3"
  },
  "language_info": {
   "codemirror_mode": {
    "name": "ipython",
    "version": 3
   },
   "file_extension": ".py",
   "mimetype": "text/x-python",
   "name": "python",
   "nbconvert_exporter": "python",
   "pygments_lexer": "ipython3",
   "version": "3.9.0"
  },
  "orig_nbformat": 4,
  "vscode": {
   "interpreter": {
    "hash": "0c617eccd62692b7a47c14a033a53f7184055873b06c730cfdbda6b4494bc8b6"
   }
  }
 },
 "nbformat": 4,
 "nbformat_minor": 2
}

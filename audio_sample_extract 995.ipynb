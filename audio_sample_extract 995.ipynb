{
 "cells": [
  {
   "cell_type": "code",
   "execution_count": 1,
   "metadata": {},
   "outputs": [],
   "source": [
    "import numpy as np\n",
    "from pyedflib import highlevel\n",
    "import matplotlib.pyplot as plt\n",
    "import os\n",
    "import glob\n",
    "import pandas as pd\n",
    "import random\n",
    "import shutil\n",
    "\n",
    "from IPython.display import clear_output\n",
    "import IPython\n",
    "\n",
    "import soundfile as sf"
   ]
  },
  {
   "cell_type": "code",
   "execution_count": 2,
   "metadata": {},
   "outputs": [],
   "source": [
    "from utils import *"
   ]
  },
  {
   "cell_type": "code",
   "execution_count": 3,
   "metadata": {},
   "outputs": [],
   "source": [
    "data_folder = './data/edf/00001037/'\n",
    "sr = 48000"
   ]
  },
  {
   "cell_type": "code",
   "execution_count": 6,
   "metadata": {},
   "outputs": [],
   "source": [
    "signal = get_mic_signals(data_folder).extract_all_mic_signal()"
   ]
  },
  {
   "cell_type": "code",
   "execution_count": 7,
   "metadata": {},
   "outputs": [
    {
     "data": {
      "text/plain": [
       "11867.0"
      ]
     },
     "execution_count": 7,
     "metadata": {},
     "output_type": "execute_result"
    }
   ],
   "source": [
    "len(signal) / sr"
   ]
  },
  {
   "cell_type": "code",
   "execution_count": null,
   "metadata": {},
   "outputs": [],
   "source": []
  },
  {
   "cell_type": "code",
   "execution_count": 64,
   "metadata": {},
   "outputs": [],
   "source": [
    "for i in range(len(mic_signals)):\n",
    "    sr = 48000\n",
    "    sf.write('./test{}.wav'.format(i + 1), mic_signals[i][starting_point : starting_point + 60*sr], sr)"
   ]
  },
  {
   "cell_type": "code",
   "execution_count": 19,
   "metadata": {},
   "outputs": [],
   "source": [
    "# ObstructiveApnea\t17539.5\t21.0\n",
    "\n",
    "starting_point = 3139 * sr\n",
    "\n",
    "sf.write('./data/psg_audio/test_resp/ObstructiveApnea_mic.wav', mic_signals[4][starting_point : starting_point + 22*sr], sr)\n",
    "sf.write('./data/psg_audio/test_resp/ObstructiveApnea_t_mic.wav', t_mic_signals[4][starting_point : starting_point + 22*sr], sr)"
   ]
  },
  {
   "cell_type": "code",
   "execution_count": 20,
   "metadata": {},
   "outputs": [
    {
     "data": {
      "text/plain": [
       "2448"
      ]
     },
     "execution_count": 20,
     "metadata": {},
     "output_type": "execute_result"
    }
   ],
   "source": [
    "16848 - (3600 * 4)"
   ]
  }
 ],
 "metadata": {
  "kernelspec": {
   "display_name": "rem_projects",
   "language": "python",
   "name": "python3"
  },
  "language_info": {
   "codemirror_mode": {
    "name": "ipython",
    "version": 3
   },
   "file_extension": ".py",
   "mimetype": "text/x-python",
   "name": "python",
   "nbconvert_exporter": "python",
   "pygments_lexer": "ipython3",
   "version": "3.9.0"
  },
  "orig_nbformat": 4,
  "vscode": {
   "interpreter": {
    "hash": "0c617eccd62692b7a47c14a033a53f7184055873b06c730cfdbda6b4494bc8b6"
   }
  }
 },
 "nbformat": 4,
 "nbformat_minor": 2
}

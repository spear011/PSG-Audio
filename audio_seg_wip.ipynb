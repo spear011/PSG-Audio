{
 "cells": [
  {
   "cell_type": "code",
   "execution_count": 1,
   "metadata": {},
   "outputs": [],
   "source": [
    "import pandas as pd\n",
    "import os\n",
    "import numpy as np\n",
    "import glob\n",
    "\n",
    "import soundfile as sf"
   ]
  },
  {
   "cell_type": "code",
   "execution_count": 2,
   "metadata": {},
   "outputs": [],
   "source": [
    "data_path = './data/wav/'\n",
    "sr = 48000\n",
    "\n",
    "sliced_wav_path = './data/sliced_wav/'"
   ]
  },
  {
   "cell_type": "code",
   "execution_count": 3,
   "metadata": {},
   "outputs": [],
   "source": [
    "# get pation id list from wav folder names\n",
    "def get_patient_id_list(wav_folder):\n",
    "    patient_id_list = []\n",
    "    for folder in os.listdir(wav_folder):\n",
    "        patient_id_list.append(folder)\n",
    "    return patient_id_list"
   ]
  },
  {
   "cell_type": "code",
   "execution_count": 4,
   "metadata": {},
   "outputs": [],
   "source": [
    "patient_list = get_patient_id_list(data_path)"
   ]
  },
  {
   "cell_type": "code",
   "execution_count": 5,
   "metadata": {},
   "outputs": [
    {
     "data": {
      "text/plain": [
       "['00001037', '00001371', '00001406', '00001576', '00001590']"
      ]
     },
     "execution_count": 5,
     "metadata": {},
     "output_type": "execute_result"
    }
   ],
   "source": [
    "patient_list"
   ]
  },
  {
   "cell_type": "code",
   "execution_count": 6,
   "metadata": {},
   "outputs": [],
   "source": [
    "# get all the wav files in the folder using patient id\n",
    "def get_wav_files(patient_id):\n",
    "    wav_file_list = []\n",
    "    for wav_file in glob.glob(data_path + patient_id + '/*.wav'):\n",
    "        wav_file_list.append(wav_file)\n",
    "    return wav_file_list"
   ]
  },
  {
   "cell_type": "code",
   "execution_count": 7,
   "metadata": {},
   "outputs": [],
   "source": [
    "wav_file_list = get_wav_files(patient_list[0])"
   ]
  },
  {
   "cell_type": "code",
   "execution_count": 8,
   "metadata": {},
   "outputs": [],
   "source": [
    "def get_wav_file_name(wav_file_path):   \n",
    "    return wav_file_path.split('\\\\')[-1].split('.')[0]"
   ]
  },
  {
   "cell_type": "code",
   "execution_count": 9,
   "metadata": {},
   "outputs": [],
   "source": [
    "# segment the wav file 20 sec frame and 10 sec overlap and save it in the sliced_wav folder\n",
    "# if the final frame of the file is less than 20 sec, just save it as it is\n",
    "# make created files list\n",
    "\n",
    "def segment_wav_file(sliced_wav_path, patient_id, frame_size, overlap):\n",
    "    wav_file_list = get_wav_files(patient_id)\n",
    "    save_dir = sliced_wav_path + patient_id\n",
    "    sliced_wav_file_list = []\n",
    "\n",
    "    if not os.path.exists(save_dir):\n",
    "        os.makedirs(save_dir)\n",
    "    for wav_file in wav_file_list:\n",
    "        wav_file_name = get_wav_file_name(wav_file)\n",
    "        y, sr = sf.read(wav_file)\n",
    "        file_number = 0\n",
    "        for i in range(0, len(y), overlap*sr):\n",
    "            if len(y[i:i+frame_size*sr]) == frame_size*sr:\n",
    "                sf.write(save_dir + '/' + str(wav_file_name) + '_' + str(file_number).zfill(3) + '.wav', y[i:i+frame_size*sr], sr)\n",
    "                sliced_wav_file_list.append(save_dir + '/' + str(wav_file_name) + '_' + str(file_number).zfill(3) + '.wav')\n",
    "                file_number += 1\n",
    "            else:\n",
    "                sf.write(save_dir + '/' + str(wav_file_name) + '_' + str(file_number).zfill(3) + '.wav', y[i:], sr)\n",
    "                sliced_wav_file_list.append(save_dir + '/' + str(wav_file_name) + '_' + str(file_number).zfill(3) + '.wav')\n",
    "                break\n",
    "    return sliced_wav_file_list"
   ]
  },
  {
   "cell_type": "code",
   "execution_count": 10,
   "metadata": {},
   "outputs": [],
   "source": [
    "test_list = segment_wav_file(sliced_wav_path, patient_list[0], 20, 10)"
   ]
  },
  {
   "cell_type": "code",
   "execution_count": null,
   "metadata": {},
   "outputs": [],
   "source": []
  }
 ],
 "metadata": {
  "kernelspec": {
   "display_name": "rem_projects",
   "language": "python",
   "name": "python3"
  },
  "language_info": {
   "codemirror_mode": {
    "name": "ipython",
    "version": 3
   },
   "file_extension": ".py",
   "mimetype": "text/x-python",
   "name": "python",
   "nbconvert_exporter": "python",
   "pygments_lexer": "ipython3",
   "version": "3.9.0"
  },
  "orig_nbformat": 4
 },
 "nbformat": 4,
 "nbformat_minor": 2
}

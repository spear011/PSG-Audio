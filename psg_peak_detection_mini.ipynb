{
 "cells": [
  {
   "cell_type": "code",
   "execution_count": 1,
   "metadata": {},
   "outputs": [],
   "source": [
    "import numpy as np\n",
    "import matplotlib.pyplot as plt\n",
    "import pandas as pd\n",
    "import seaborn as sns\n",
    "\n",
    "from scipy import signal\n",
    "\n",
    "import os\n",
    "import librosa as lb\n",
    "\n",
    "import IPython.display as ipd\n",
    "\n",
    "from scipy.ndimage import gaussian_filter1d\n",
    "from scipy.signal import find_peaks"
   ]
  },
  {
   "attachments": {},
   "cell_type": "markdown",
   "metadata": {},
   "source": [
    "## Data Path"
   ]
  },
  {
   "cell_type": "code",
   "execution_count": 2,
   "metadata": {},
   "outputs": [],
   "source": [
    "data_path = 'E:/REM Detection/psg_audio_dataset/testing_input_audio/'"
   ]
  },
  {
   "cell_type": "code",
   "execution_count": 3,
   "metadata": {},
   "outputs": [],
   "source": [
    "def get_folder_names(data_path):\n",
    "    folders = []\n",
    "    for folder in os.listdir(data_path):\n",
    "        folders.append(folder)\n",
    "    return folders\n",
    "\n",
    "def get_patient_id(folder_name):\n",
    "    return int(folder_name)\n",
    "\n",
    "def get_file_path_list(data_path, folder_name):\n",
    "    file_path_list = []\n",
    "    for file in os.listdir(data_path + folder_name):\n",
    "        file_path_list.append(data_path + folder_name + '/' + file)\n",
    "    return file_path_list\n",
    "\n",
    "def get_file_name(file_path):\n",
    "    return file_path.split('/')[-1].split('.')[0]\n"
   ]
  },
  {
   "cell_type": "code",
   "execution_count": 4,
   "metadata": {},
   "outputs": [
    {
     "name": "stdout",
     "output_type": "stream",
     "text": [
      "Number of folders:  2\n",
      "Patient_id list:  [995, 999]\n",
      "Number of files:  3270\n"
     ]
    }
   ],
   "source": [
    "folders = get_folder_names(data_path)\n",
    "patient_id = [get_patient_id(folder) for folder in folders]\n",
    "\n",
    "file_path_list = []\n",
    "for folder in folders:\n",
    "    current_file_path_list = get_file_path_list(data_path, folder)\n",
    "    file_path_list.extend(current_file_path_list)\n",
    "\n",
    "print('Number of folders: ', len(folders))\n",
    "print('Patient_id list: ', patient_id)\n",
    "print('Number of files: ', len(file_path_list))"
   ]
  },
  {
   "cell_type": "code",
   "execution_count": 5,
   "metadata": {},
   "outputs": [],
   "source": [
    "file_id_list = [get_file_name(file_path) for file_path in file_path_list]"
   ]
  },
  {
   "attachments": {},
   "cell_type": "markdown",
   "metadata": {},
   "source": [
    "## Load Data"
   ]
  },
  {
   "cell_type": "code",
   "execution_count": 6,
   "metadata": {},
   "outputs": [],
   "source": [
    "sample_rate = 44100\n",
    "\n",
    "high_pass = signal.firwin(101, 1000, pass_zero= 'highpass', fs=sample_rate)\n",
    "\n",
    "def apply_high_pass_filter(sig_array):\n",
    "    return signal.lfilter(high_pass, [1.0], sig_array)\n",
    "\n",
    "def apply_log_compression(sig_array, gamma):\n",
    "    sign = np.sign(sig_array)\n",
    "    abs_signal = 1 + np.abs(sig_array) * gamma\n",
    "    logged = np.log(abs_signal)\n",
    "    scaled = logged * (1 / np.log(1.0 + gamma))\n",
    "    return sign * scaled\n",
    "\n",
    "def nomalize_volume(sig_array):\n",
    "    minAmp, maxAmp = np.amin(sig_array), np.amax(sig_array)\n",
    "    max_energy = max(abs(minAmp), abs(maxAmp))\n",
    "    scale = 1.0 / max_energy\n",
    "    sig_array *= scale\n",
    "    return sig_array\n",
    "\n",
    "window_size_sec = 0.05\n",
    "window_size = int(window_size_sec * sample_rate)\n",
    "\n",
    "def get_spectrogram(sig_array):\n",
    "    spectrograms = []\n",
    "    for sig in sig_array:\n",
    "        f, t, Sxx = signal.spectrogram(sig, sample_rate, nperseg=window_size)\n",
    "        spectrograms.append((f, t, Sxx))\n",
    "        if len(spectrograms) % 500 == 0:\n",
    "            print('Loaded {} spectrograms'.format(len(spectrograms)))\n",
    "            print('Remaining spectrograms: ', len(sig_array) - len(spectrograms))\n",
    "    print('Number of spectrograms: ', len(spectrograms))\n",
    "    return spectrograms\n",
    "\n",
    "def load_and_process_audio(audio_file_list, sample_rate):\n",
    "    output_audio = []\n",
    "    for file in audio_file_list:\n",
    "        audio, _ = lb.load(file, sr=sample_rate)\n",
    "        audio = apply_high_pass_filter(audio)\n",
    "        audio = apply_log_compression(audio, 18)\n",
    "        audio = nomalize_volume(audio)\n",
    "        output_audio.append(audio)\n",
    "        if len(output_audio) % 500 == 0:\n",
    "            print('Loaded {} audio files'.format(len(output_audio)))\n",
    "            print('Remaining audio files: ', len(audio_file_list) - len(output_audio))\n",
    "    print('Number of audio files: ', len(output_audio))\n",
    "    return output_audio"
   ]
  },
  {
   "cell_type": "code",
   "execution_count": 7,
   "metadata": {},
   "outputs": [
    {
     "name": "stdout",
     "output_type": "stream",
     "text": [
      "Loaded 500 audio files\n",
      "Remaining audio files:  2770\n",
      "Loaded 1000 audio files\n",
      "Remaining audio files:  2270\n",
      "Loaded 1500 audio files\n",
      "Remaining audio files:  1770\n",
      "Loaded 2000 audio files\n",
      "Remaining audio files:  1270\n",
      "Loaded 2500 audio files\n",
      "Remaining audio files:  770\n",
      "Loaded 3000 audio files\n",
      "Remaining audio files:  270\n",
      "Number of audio files:  3270\n",
      "Loaded 500 spectrograms\n",
      "Remaining spectrograms:  2770\n",
      "Loaded 1000 spectrograms\n",
      "Remaining spectrograms:  2270\n",
      "Loaded 1500 spectrograms\n",
      "Remaining spectrograms:  1770\n",
      "Loaded 2000 spectrograms\n",
      "Remaining spectrograms:  1270\n",
      "Loaded 2500 spectrograms\n",
      "Remaining spectrograms:  770\n",
      "Loaded 3000 spectrograms\n",
      "Remaining spectrograms:  270\n",
      "Number of spectrograms:  3270\n"
     ]
    }
   ],
   "source": [
    "processed_audio = load_and_process_audio(file_path_list, sample_rate)\n",
    "spectrograms = get_spectrogram(processed_audio)"
   ]
  },
  {
   "attachments": {},
   "cell_type": "markdown",
   "metadata": {},
   "source": [
    "### visualize"
   ]
  },
  {
   "cell_type": "code",
   "execution_count": 8,
   "metadata": {},
   "outputs": [],
   "source": [
    "def plot_audio(audio, processed_audio, sample_idx):\n",
    "    fig, axs = plt.subplots(1, 2, figsize=(16, 5))\n",
    "    fig.suptitle('Before and after noise removal', fontsize=16)\n",
    "\n",
    "    axs[0].plot(audio[sample_idx])\n",
    "    axs[0].set_title('Before noise removal')\n",
    "\n",
    "    axs[1].plot(processed_audio[sample_idx])\n",
    "    axs[1].set_title('After noise removal')\n",
    "\n",
    "    for ax in axs:\n",
    "        ax.set_xlabel('Time (samples)')\n",
    "        ax.set_ylabel('Amplitude')\n",
    "\n",
    "    plt.tight_layout()\n",
    "    plt.show()\n",
    "\n",
    "    print('Before noise removal: ', audio[sample_idx].shape)\n",
    "    ipd.display(ipd.Audio(audio[sample_idx], rate=sample_rate))\n",
    "    print('After noise removal: ', processed_audio[sample_idx].shape)\n",
    "    ipd.display(ipd.Audio(processed_audio[sample_idx], rate=sample_rate))\n",
    "\n",
    "def plot_spectrogram(spectrograms, sample_idx):\n",
    "    spectrogram = spectrograms[sample_idx]\n",
    "    plt.subplots(figsize=(16, 5))\n",
    "    plt.pcolormesh(spectrogram[1], spectrogram[0], np.power(spectrogram[2], 0.1), shading='gouraud')\n",
    "    plt.ylabel('Frequency [Hz]')\n",
    "    plt.xlabel('Time [sec]')\n",
    "    plt.show()\n",
    "\n",
    "def peak_plot(power_envelope, time, peaks_idx, number_of_peaks):\n",
    "    peak_timing = [time[peak] for peak in peaks_idx]\n",
    "    plt.subplots(figsize=(16, 5))\n",
    "    plt.plot(time, power_envelope, color='gray')\n",
    "    plt.plot(peak_timing, power_envelope[peaks_idx], \"v\", color='red', markersize=10)\n",
    "    plt.hlines(y=0.00008, xmin=0, xmax=time[-1], color='red', linestyles='dashed')\n",
    "    plt.title('Number of peaks: ' + str(number_of_peaks))\n",
    "    plt.ylabel('Power')\n",
    "    plt.xlabel('Time [sec]')\n",
    "    plt.show()"
   ]
  },
  {
   "cell_type": "code",
   "execution_count": 9,
   "metadata": {},
   "outputs": [],
   "source": [
    "# sample_idx = 0\n",
    "\n",
    "# plot_audio(audio_raw_signals, processed_audio, sample_idx)"
   ]
  },
  {
   "cell_type": "code",
   "execution_count": 10,
   "metadata": {},
   "outputs": [],
   "source": [
    "# plot_spectrogram(spectrograms, sample_idx)"
   ]
  },
  {
   "attachments": {},
   "cell_type": "markdown",
   "metadata": {},
   "source": [
    "## get envelope"
   ]
  },
  {
   "cell_type": "code",
   "execution_count": 11,
   "metadata": {},
   "outputs": [],
   "source": [
    "def get_envelope(spectrogram):\n",
    "    times = []\n",
    "    power_envelope = []\n",
    "    for spec in spectrogram:\n",
    "        times.append(spec[1])\n",
    "        power_envelope.append(gaussian_filter1d(np.sum(spec[2], axis=0), sigma=10))\n",
    "        if len(power_envelope) % 500 == 0:\n",
    "            print('Loaded {} power envelopes'.format(len(power_envelope)))\n",
    "            print('Remaining power envelopes: ', len(spectrogram) - len(power_envelope))\n",
    "    print('Number of time series: ', len(times))\n",
    "    print('Number of power envelopes: ', len(power_envelope))\n",
    "    return times, power_envelope\n",
    "\n",
    "def get_peaks_idx(power_envelope):\n",
    "    peaks, _ = find_peaks(power_envelope, height=0.00008)\n",
    "    return peaks\n",
    "\n",
    "def get_peak_timing(time, power_envelope):\n",
    "    peaks = get_peaks_idx(power_envelope)\n",
    "    peak_timing = []\n",
    "    for peak in peaks:\n",
    "        peak_timing.append(time[peak])\n",
    "    return peak_timing"
   ]
  },
  {
   "cell_type": "code",
   "execution_count": 12,
   "metadata": {},
   "outputs": [
    {
     "name": "stdout",
     "output_type": "stream",
     "text": [
      "Loaded 500 power envelopes\n",
      "Remaining power envelopes:  2770\n",
      "Loaded 1000 power envelopes\n",
      "Remaining power envelopes:  2270\n",
      "Loaded 1500 power envelopes\n",
      "Remaining power envelopes:  1770\n",
      "Loaded 2000 power envelopes\n",
      "Remaining power envelopes:  1270\n",
      "Loaded 2500 power envelopes\n",
      "Remaining power envelopes:  770\n",
      "Loaded 3000 power envelopes\n",
      "Remaining power envelopes:  270\n",
      "Number of time series:  3270\n",
      "Number of power envelopes:  3270\n"
     ]
    }
   ],
   "source": [
    "times, power_envelopes = get_envelope(spectrograms)\n",
    "\n",
    "peak_counts = []\n",
    "\n",
    "for i in range(len(times)):\n",
    "    peaks_idx = get_peaks_idx(power_envelopes[i])\n",
    "    peak_counts.append(len(peaks_idx))"
   ]
  },
  {
   "cell_type": "code",
   "execution_count": 13,
   "metadata": {},
   "outputs": [],
   "source": [
    "# peak plot\n",
    "# sample_peaks = get_peaks_idx(power_envelopes[sample_idx])\n",
    "# peak_plot(power_envelopes[sample_idx], times[sample_idx], sample_peaks, len(sample_peaks))"
   ]
  },
  {
   "cell_type": "code",
   "execution_count": 14,
   "metadata": {},
   "outputs": [],
   "source": [
    "peak_df = pd.DataFrame({'sliced_audio_file_id': file_id_list, 'peak_algorithm': peak_counts})"
   ]
  },
  {
   "cell_type": "code",
   "execution_count": 15,
   "metadata": {},
   "outputs": [],
   "source": [
    "# peak_df.to_csv('./data/peak_algorithm_mini.csv', index=False)"
   ]
  },
  {
   "cell_type": "code",
   "execution_count": 16,
   "metadata": {},
   "outputs": [],
   "source": [
    "def get_patient_id_from_file_id(file_id):\n",
    "    return int(file_id.split('_')[0])"
   ]
  },
  {
   "cell_type": "code",
   "execution_count": 17,
   "metadata": {},
   "outputs": [
    {
     "data": {
      "text/html": [
       "<div>\n",
       "<style scoped>\n",
       "    .dataframe tbody tr th:only-of-type {\n",
       "        vertical-align: middle;\n",
       "    }\n",
       "\n",
       "    .dataframe tbody tr th {\n",
       "        vertical-align: top;\n",
       "    }\n",
       "\n",
       "    .dataframe thead th {\n",
       "        text-align: right;\n",
       "    }\n",
       "</style>\n",
       "<table border=\"1\" class=\"dataframe\">\n",
       "  <thead>\n",
       "    <tr style=\"text-align: right;\">\n",
       "      <th></th>\n",
       "      <th>sliced_audio_file_id</th>\n",
       "      <th>peak_algorithm</th>\n",
       "      <th>patient_id</th>\n",
       "    </tr>\n",
       "  </thead>\n",
       "  <tbody>\n",
       "    <tr>\n",
       "      <th>0</th>\n",
       "      <td>00000995_01_000_000</td>\n",
       "      <td>0</td>\n",
       "      <td>995</td>\n",
       "    </tr>\n",
       "    <tr>\n",
       "      <th>1</th>\n",
       "      <td>00000995_01_000_001</td>\n",
       "      <td>6</td>\n",
       "      <td>995</td>\n",
       "    </tr>\n",
       "    <tr>\n",
       "      <th>2</th>\n",
       "      <td>00000995_01_000_002</td>\n",
       "      <td>0</td>\n",
       "      <td>995</td>\n",
       "    </tr>\n",
       "    <tr>\n",
       "      <th>3</th>\n",
       "      <td>00000995_01_000_003</td>\n",
       "      <td>0</td>\n",
       "      <td>995</td>\n",
       "    </tr>\n",
       "    <tr>\n",
       "      <th>4</th>\n",
       "      <td>00000995_01_000_004</td>\n",
       "      <td>7</td>\n",
       "      <td>995</td>\n",
       "    </tr>\n",
       "    <tr>\n",
       "      <th>...</th>\n",
       "      <td>...</td>\n",
       "      <td>...</td>\n",
       "      <td>...</td>\n",
       "    </tr>\n",
       "    <tr>\n",
       "      <th>3265</th>\n",
       "      <td>00000999_05_127_025</td>\n",
       "      <td>6</td>\n",
       "      <td>999</td>\n",
       "    </tr>\n",
       "    <tr>\n",
       "      <th>3266</th>\n",
       "      <td>00000999_05_127_026</td>\n",
       "      <td>10</td>\n",
       "      <td>999</td>\n",
       "    </tr>\n",
       "    <tr>\n",
       "      <th>3267</th>\n",
       "      <td>00000999_05_127_027</td>\n",
       "      <td>7</td>\n",
       "      <td>999</td>\n",
       "    </tr>\n",
       "    <tr>\n",
       "      <th>3268</th>\n",
       "      <td>00000999_05_127_028</td>\n",
       "      <td>2</td>\n",
       "      <td>999</td>\n",
       "    </tr>\n",
       "    <tr>\n",
       "      <th>3269</th>\n",
       "      <td>00000999_05_127_029</td>\n",
       "      <td>2</td>\n",
       "      <td>999</td>\n",
       "    </tr>\n",
       "  </tbody>\n",
       "</table>\n",
       "<p>3270 rows × 3 columns</p>\n",
       "</div>"
      ],
      "text/plain": [
       "     sliced_audio_file_id  peak_algorithm  patient_id\n",
       "0     00000995_01_000_000               0         995\n",
       "1     00000995_01_000_001               6         995\n",
       "2     00000995_01_000_002               0         995\n",
       "3     00000995_01_000_003               0         995\n",
       "4     00000995_01_000_004               7         995\n",
       "...                   ...             ...         ...\n",
       "3265  00000999_05_127_025               6         999\n",
       "3266  00000999_05_127_026              10         999\n",
       "3267  00000999_05_127_027               7         999\n",
       "3268  00000999_05_127_028               2         999\n",
       "3269  00000999_05_127_029               2         999\n",
       "\n",
       "[3270 rows x 3 columns]"
      ]
     },
     "execution_count": 17,
     "metadata": {},
     "output_type": "execute_result"
    }
   ],
   "source": [
    "peak_df['patient_id'] = peak_df['sliced_audio_file_id'].apply(get_patient_id_from_file_id)\n",
    "peak_df"
   ]
  },
  {
   "cell_type": "code",
   "execution_count": 18,
   "metadata": {},
   "outputs": [],
   "source": [
    "peak_df.to_csv('./data/peak_algorithm_mini.csv', index=False)"
   ]
  }
 ],
 "metadata": {
  "kernelspec": {
   "display_name": "rem_projects",
   "language": "python",
   "name": "python3"
  },
  "language_info": {
   "codemirror_mode": {
    "name": "ipython",
    "version": 3
   },
   "file_extension": ".py",
   "mimetype": "text/x-python",
   "name": "python",
   "nbconvert_exporter": "python",
   "pygments_lexer": "ipython3",
   "version": "3.9.0"
  },
  "orig_nbformat": 4
 },
 "nbformat": 4,
 "nbformat_minor": 2
}

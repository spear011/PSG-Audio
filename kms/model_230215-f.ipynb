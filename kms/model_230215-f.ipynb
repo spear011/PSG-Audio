{
 "cells": [
  {
   "cell_type": "code",
   "execution_count": 1,
   "id": "ccf5a2ed-f857-4fdd-b915-7ebe258f3d84",
   "metadata": {},
   "outputs": [],
   "source": [
    "from IPython import display\n",
    "import matplotlib.pyplot as plt\n",
    "import numpy as np\n",
    "import IPython\n",
    "import tensorflow as tf\n",
    "import tensorflow_hub as hub\n",
    "import tensorflow_io as tfio\n",
    "from glob import glob\n",
    "import pandas as pd\n",
    "import math\n",
    "from sklearn.model_selection import train_test_split\n",
    "from IPython.display import clear_output\n",
    "import os\n"
   ]
  },
  {
   "cell_type": "markdown",
   "id": "8292d6cd-dbda-4237-83c9-b5165f2204a2",
   "metadata": {},
   "source": [
    "# 1. 환경 설정"
   ]
  },
  {
   "cell_type": "code",
   "execution_count": 2,
   "id": "a903adaa-b944-4194-b176-f80b070bcb19",
   "metadata": {},
   "outputs": [
    {
     "name": "stderr",
     "output_type": "stream",
     "text": [
      "2023-02-15 07:56:17.228019: I tensorflow/core/platform/cpu_feature_guard.cc:151] This TensorFlow binary is optimized with oneAPI Deep Neural Network Library (oneDNN) to use the following CPU instructions in performance-critical operations:  AVX2 AVX512F FMA\n",
      "To enable them in other operations, rebuild TensorFlow with the appropriate compiler flags.\n",
      "2023-02-15 07:56:18.075232: I tensorflow/core/common_runtime/gpu/gpu_device.cc:1525] Created device /job:localhost/replica:0/task:0/device:GPU:0 with 22844 MB memory:  -> device: 0, name: TITAN RTX, pci bus id: 0000:1a:00.0, compute capability: 7.5\n",
      "2023-02-15 07:56:18.076363: I tensorflow/core/common_runtime/gpu/gpu_device.cc:1525] Created device /job:localhost/replica:0/task:0/device:GPU:1 with 22841 MB memory:  -> device: 1, name: TITAN RTX, pci bus id: 0000:68:00.0, compute capability: 7.5\n"
     ]
    }
   ],
   "source": [
    "yamnet_model_handle = 'https://tfhub.dev/google/yamnet/1'\n",
    "yamnet_model = hub.load(yamnet_model_handle)\n",
    "\n",
    "BATCH_SIZE = 64\n",
    "EPOCH = 100\n",
    "\n",
    "### 오디오 전처리 된 버전 or 원본 사용 \n",
    "INPUT_PATH = 'data/*'\n",
    "#INPUT_PATH = 'data_pr/*'\n",
    "\n",
    "### 오디오 퀄리티 안 좋은 것 제거할지\n",
    "EXCLUDED = False"
   ]
  },
  {
   "cell_type": "markdown",
   "id": "30e4a927-87c3-4b36-b559-ff7c4341faae",
   "metadata": {},
   "source": [
    "# 2. 데이터 준비"
   ]
  },
  {
   "cell_type": "code",
   "execution_count": 3,
   "id": "3587517a-5beb-4ddd-8d8b-8e3b0042b96e",
   "metadata": {},
   "outputs": [],
   "source": [
    "flist = sorted([ f for f in glob(INPUT_PATH) if '.wav' in f])\n",
    "flist_lb = sorted([f for f in glob(INPUT_PATH) if '.npy' in f])\n",
    "\n",
    "excepts = ['101', '104', '107', '108_1b1_Al_sc_Meditron', '109', '110', '112', '113', '118', '120', '124', '130', '133', \n",
    "'138', '139', '141', '144', '146_8p3_Lr_mc_AKGC417L', '147_2b3_Ll_mc_AKGC417L', '147_2b3_Pl_mc_AKGC417L', \n",
    "'149', '150', '151', '154_2b4_Tc_mc_AKGC417L', '158', '163_8b3_Lr_mc_AKGC417L', '172_1b3_Al_mc_AKGC417L', \n",
    "'172_1b3_Ar_mc_AKGC417L', '172_1b3_Ll_mc_AKGC417L', '172_1b3_Lr_mc_AKGC417L', '172_1b3_Pl_mc_AKGC417L', \n",
    "'172_1b3_Pr_mc_AKGC417L', '172_1b3_Tc_mc_AKGC417L', '172_1b4_Al_mc_AKGC417L', '172_1b4_Ar_mc_AKGC417L', \n",
    "'172_1b4_Ll_mc_AKGC417L', '172_1b4_Lr_mc_AKGC417L', '172_1b4_Pl_mc_AKGC417L', '172_1b4_Pr_mc_AKGC417L', \n",
    "'172_1b4_Tc_mc_AKGC417L', '172_1b5_Ll_mc_AKGC417L', '173_1b1_Al_sc_Meditron', '174', \n",
    "'175', '177_1b4_Al_mc_AKGC417L', '177_1b4_Lr_mc_AKGC417L', '178_1b2_Al_mc_AKGC417L', '178_1b2_Ar_mc_AKGC417L', \n",
    "'178_1b2_Lr_mc_AKGC417L', '178_1b2_Pl_mc_AKGC417L', '178_1b2_Pr_mc_AKGC417L', '178_1b3_Lr_mc_AKGC417L', '178_1b3_Pl_mc_AKGC417L', '178_1b3_Pr_mc_AKGC417L', \n",
    "'178_1b6_Ll_mc_AKGC417L', '178_1b6_Lr_mc_AKGC417L', '178_1b6_Pl_mc_AKGC417L', '178_1b6_Pr_mc_AKGC417L', '178_2b2_Ar_mc_AKGC417L', '178_2b2_Pr_mc_AKGC417L', \n",
    "'179_1b1_Al_sc_Meditron', '180', '185', '186_2b2_Pl_mc_AKGC417L', '186_2b2_Pr_mc_AKGC417L', '186_2b3_Pl_mc_AKGC417L', '186_2b3_Pr_mc_AKGC417L', \n",
    "'186_2b4_Pl_mc_AKGC417L', '186_2b4_Pr_mc_AKGC417L', '186_3b3_Pl_mc_AKGC417L', '186_3b3_Pr_mc_AKGC417L', '193_1b2_Al_mc_AKGC417L', '193_1b2_Ar_mc_AKGC417L', \n",
    "'193_1b2_Ll_mc_AKGC417L', '193_1b2_Pl_mc_AKGC417L', '193_1b2_Pr_mc_AKGC417L', '193_1b4_Lr_mc_AKGC417L', '193_7b3_Pr_mc_AKGC417L', '195', '198', '199_2b1_Ll_mc_LittC2SE', \n",
    "'200_2p2_Al_mc_AKGC417L', '200_2p2_Ar_mc_AKGC417L', '200_2p2_Lr_mc_AKGC417L', '200_2p2_Pl_mc_AKGC417L', '200_2p4_Ar_mc_AKGC417L', '200_2p4_Lr_mc_AKGC417L', \n",
    "'200_2p4_Lr_mc_AKGC417L', '200_2p4_Pl_mc_AKGC417L', '200_2p4_Pr_mc_AKGC417L', '200_3p4_Pl_mc_AKGC417L', '200_3p4_Pr_mc_AKGC417L', '203_1p2_Al_mc_AKGC417L', \n",
    "'203_1p2_Ar_mc_AKGC417L', '203_1p2_Lr_mc_AKGC417L', '204_2b5_Al_mc_AKGC417L', '204_2b5_Ll_mc_AKGC417L', '204_7p5_Lr_mc_AKGC417L', '205_2b2_Pr_mc_AKGC417L', \n",
    "'205_4b2_Lr_mc_AKGC417L', '206', '213', '216', '218', '223']\n",
    "\n",
    "if EXCLUDED == True:\n",
    "    flist = [f for f in flist if f.split('/')[-1].split('_')[0] not in excepts and f.split('/')[-1].split('.')[0] not in excepts]\n",
    "    flist_lb = [f for f in flist_lb if f.split('/')[-1].split('_')[0] not in excepts and f.split('/')[-1].split('.')[0] not in excepts]"
   ]
  },
  {
   "cell_type": "code",
   "execution_count": 4,
   "id": "8ceb4890-ab54-4230-a4ab-356dc99e38ec",
   "metadata": {},
   "outputs": [
    {
     "data": {
      "text/plain": [
       "(array(['217', '156', '195', '123', '175', '218', '132', '178', '138',\n",
       "        '197', '199', '163', '188', '173', '107', '157', '119', '221',\n",
       "        '193', '116', '224', '153', '151', '141', '164', '147', '105',\n",
       "        '131', '201', '126', '176', '167', '189', '225', '198', '134',\n",
       "        '108', '146', '174', '194', '140', '133', '184', '186', '148',\n",
       "        '180', '172', '206', '200', '170', '166', '203', '220', '191',\n",
       "        '117', '183', '102', '177', '152', '118', '182', '137', '185',\n",
       "        '150', '190', '145', '135', '210', '149', '226', '104', '212',\n",
       "        '168', '155', '121', '209', '120', '213', '223', '130', '204',\n",
       "        '207', '169', '222', '192', '144', '115', '171', '159', '181',\n",
       "        '142', '113', '129', '101', '205', '154', '136', '187', '179',\n",
       "        '211', '196', '215', '165', '128', '219', '103', '111', '106'],\n",
       "       dtype=object),\n",
       " array(['158', '161', '162', '109', '143', '114', '110', '139', '216',\n",
       "        '160', '125', '112', '122'], dtype=object))"
      ]
     },
     "execution_count": 4,
     "metadata": {},
     "output_type": "execute_result"
    }
   ],
   "source": [
    "total_lb = []\n",
    "for f in flist_lb:\n",
    "     total_lb += [ np.load(f) ]\n",
    "total_lb = np.array(total_lb)\n",
    "\n",
    "df = pd.DataFrame(total_lb)\n",
    "df['sbj'] = flist\n",
    "df['sbj'] = df.sbj.str.split('/', expand=True)[1].str.split('_', expand=True)[0]\n",
    "df = df.groupby('sbj').mean().reset_index()\n",
    "\n",
    "# 학습:평가 9:1로 임의로 분할\n",
    "train_ids, test_ids, y_train, y_test = train_test_split(df.sbj, df[0], test_size=0.1, stratify=df.round(0)[0])\n",
    "train_ids, test_ids = train_ids.values, test_ids.values\n",
    "\n",
    "train_ids, test_ids"
   ]
  },
  {
   "cell_type": "code",
   "execution_count": 5,
   "id": "7a2ed942-4ff5-435f-94f3-53ece27a364e",
   "metadata": {},
   "outputs": [
    {
     "data": {
      "text/plain": [
       "(array([1., 1., 3., 1., 1., 2., 1., 2., 0., 1.]),\n",
       " array([1.10638889, 1.48752396, 1.86865903, 2.2497941 , 2.63092917,\n",
       "        3.01206424, 3.39319931, 3.77433438, 4.15546944, 4.53660451,\n",
       "        4.91773958]),\n",
       " <BarContainer object of 10 artists>)"
      ]
     },
     "execution_count": 5,
     "metadata": {},
     "output_type": "execute_result"
    },
    {
     "data": {
      "image/png": "[encoded data removed]",
      "text/plain": [
       "<Figure size 432x288 with 1 Axes>"
      ]
     },
     "metadata": {
      "needs_background": "light"
     },
     "output_type": "display_data"
    }
   ],
   "source": [
    "plt.hist(y_train)\n",
    "plt.hist(y_test) "
   ]
  },
  {
   "cell_type": "markdown",
   "id": "f44dac58-b2dd-4b92-8f22-80acb5ac4797",
   "metadata": {},
   "source": [
    "# 3. 데이터 파이프라인"
   ]
  },
  {
   "cell_type": "code",
   "execution_count": 6,
   "id": "b7f69ce3-1e69-45b0-8aca-edd3b43417fc",
   "metadata": {},
   "outputs": [
    {
     "data": {
      "text/plain": [
       "(array([2.72569011, 0.66516152]), array([0.97592334, 0.87980762]))"
      ]
     },
     "execution_count": 6,
     "metadata": {},
     "output_type": "execute_result"
    }
   ],
   "source": [
    "# 정규화 때 사용할 변수 추출\n",
    "norm_m = df[[0,1]].mean().values\n",
    "norm_sd = df[[0,1]].std(axis=0).values\n",
    "\n",
    "norm_m, norm_sd"
   ]
  },
  {
   "cell_type": "code",
   "execution_count": 7,
   "id": "8b3fad2c-5215-43f1-bada-5ee0ad3ba2dc",
   "metadata": {},
   "outputs": [],
   "source": [
    "@tf.function\n",
    "def choose_file(filenames):\n",
    "    \n",
    "    flist = tf.strings.split(filenames, sep=' ')\n",
    "    \n",
    "    len_list = tf.size(flist)\n",
    "    rand_var = tf.random.uniform([1],0,len_list, dtype=tf.int32)\n",
    "    sel_f = tf.gather(flist,rand_var[0])\n",
    "\n",
    "    return sel_f, tf.strings.regex_replace(sel_f, '.wav', '.npy')\n",
    "\n",
    "# YAMNET에서 Embedding Vector 추출\n",
    "@tf.function\n",
    "def get_embeddings(wav_file, lb_file):\n",
    "    \"\"\" Load a WAV file, convert it to a float tensor, resample to 16 kHz single-channel audio. \"\"\"\n",
    "    file_contents = tf.io.read_file(wav_file)\n",
    "    wav, sample_rate = tf.audio.decode_wav(\n",
    "          file_contents,\n",
    "          desired_channels=1)\n",
    "    wav = tf.squeeze(wav, axis=-1) \n",
    "    sample_rate = tf.cast(sample_rate, dtype=tf.int64)\n",
    "    #wav = tfio.audio.resample(wav, rate_in=sample_rate, rate_out=16000)\n",
    "    \n",
    "    scores, embeddings, spectrogram = yamnet_model(wav)\n",
    "    return embeddings, lb_file\n",
    "\n",
    "def get_labels(wav, lb_file):\n",
    "    data = np.load(lb_file.numpy().decode())\n",
    "    \n",
    "    data = (data.astype(np.float32) - norm_m)/norm_sd\n",
    "    return wav, data"
   ]
  },
  {
   "cell_type": "code",
   "execution_count": 8,
   "id": "1735970b-647c-48e4-9b63-32e3eb6292bc",
   "metadata": {},
   "outputs": [],
   "source": [
    "def get_dataset(sbj_ids, training=False):\n",
    "    target_flist = []\n",
    "\n",
    "    for sbj in sbj_ids:\n",
    "\n",
    "        tmp = [f for f in flist if f.split('/')[-1].split('_')[0] in sbj ]\n",
    "\n",
    "        if len(tmp) != 0:\n",
    "            target_flist += [ ' '.join(tmp) ]\n",
    "            \n",
    "    dataset = tf.data.Dataset.from_tensor_slices(target_flist)\n",
    "    dataset = dataset.map(choose_file)\n",
    "\n",
    "    if training == True:\n",
    "        #dataset = dataset.shuffle(len(sbj_ids))\n",
    "        dataset = dataset.repeat()\n",
    "\n",
    "    dataset = dataset.map(get_embeddings, num_parallel_calls=tf.data.AUTOTUNE)\n",
    "    dataset = dataset.map(\n",
    "            lambda wav, lb_file: tuple(tf.py_function(get_labels, [wav, lb_file], [tf.float32, tf.float32,])))\n",
    "\n",
    "    dataset = dataset.batch(BATCH_SIZE)  \n",
    "    dataset = dataset.prefetch(tf.data.experimental.AUTOTUNE)\n",
    "\n",
    "    return dataset"
   ]
  },
  {
   "cell_type": "code",
   "execution_count": 9,
   "id": "dcb1d2c4-7a18-46ec-8a7f-eaf176b4f307",
   "metadata": {},
   "outputs": [],
   "source": [
    "train_dataset = get_dataset(train_ids, True)\n",
    "test_dataset = get_dataset(test_ids, False)"
   ]
  },
  {
   "cell_type": "markdown",
   "id": "822ef7f7-9685-4acb-94f8-71e016595081",
   "metadata": {},
   "source": [
    "# 4. 모델 학습"
   ]
  },
  {
   "cell_type": "code",
   "execution_count": 10,
   "id": "067acc78-dc91-44c3-bad1-07858bdc93c9",
   "metadata": {},
   "outputs": [],
   "source": [
    "class LossAndErrorPrintingCallback(tf.keras.callbacks.Callback):\n",
    "    def on_epoch_end(self, epoch, logs=None):\n",
    "        clear_output(wait=True)\n",
    "        print(\"Epoch {}/{}\".format(epoch+1, EPOCH))\n",
    "\n",
    "checkpoint_filepath = 'tmp/checkpoint'\n",
    "\n",
    "model_checkpoint_callback = tf.keras.callbacks.ModelCheckpoint(\n",
    "    filepath=checkpoint_filepath,\n",
    "    save_weights_only=True,\n",
    "    monitor='val_mae',\n",
    "    mode='min',\n",
    "    save_best_only=True)\n"
   ]
  },
  {
   "cell_type": "code",
   "execution_count": 39,
   "id": "337b0a3a-21f2-4f97-83e0-3602645e9389",
   "metadata": {},
   "outputs": [
    {
     "name": "stdout",
     "output_type": "stream",
     "text": [
      "Model: \"sequential_7\"\n",
      "_________________________________________________________________\n",
      " Layer (type)                Output Shape              Param #   \n",
      "=================================================================\n",
      " conv1d_28 (Conv1D)          (None, 41, 16)            16400     \n",
      "                                                                 \n",
      " conv1d_29 (Conv1D)          (None, 41, 16)            1296      \n",
      "                                                                 \n",
      " max_pooling1d_14 (MaxPoolin  (None, 20, 16)           0         \n",
      " g1D)                                                            \n",
      "                                                                 \n",
      " conv1d_30 (Conv1D)          (None, 20, 32)            2592      \n",
      "                                                                 \n",
      " max_pooling1d_15 (MaxPoolin  (None, 10, 32)           0         \n",
      " g1D)                                                            \n",
      "                                                                 \n",
      " conv1d_31 (Conv1D)          (None, 10, 32)            5152      \n",
      "                                                                 \n",
      " global_average_pooling1d_7   (None, 32)               0         \n",
      " (GlobalAveragePooling1D)                                        \n",
      "                                                                 \n",
      " dense_7 (Dense)             (None, 2)                 66        \n",
      "                                                                 \n",
      "=================================================================\n",
      "Total params: 25,506\n",
      "Trainable params: 25,506\n",
      "Non-trainable params: 0\n",
      "_________________________________________________________________\n"
     ]
    }
   ],
   "source": [
    "# 입력: YAMNET Embedding Vector Array \n",
    "# (a, b, c) --> a: 시간축 (YAMNET은 최근 0.96초를 보고 0.48초 단위로 값 생성 -> 41칸 ~ 20초), b: Embedding 차원 수, c: Conv 돌리기 위한 임의 추가 채널 \n",
    "\n",
    "# 출력: Breathing Cycle 길이 평균 (초), Breathing Cycle 길이 분산\n",
    "model = tf.keras.Sequential([\n",
    "  tf.keras.layers.Input(shape=(41, 1024)),\n",
    "  tf.keras.layers.Conv1D(16, 1, padding = 'same', activation='relu'),\n",
    "  tf.keras.layers.Conv1D(16, 5, padding = 'same', activation='relu'),\n",
    "  tf.keras.layers.MaxPooling1D(2),\n",
    "  tf.keras.layers.Conv1D(32, 5, padding = 'same', activation='relu'),\n",
    "  tf.keras.layers.MaxPooling1D(2),\n",
    "  tf.keras.layers.Conv1D(32, 5, padding = 'same', activation='relu'),\n",
    "  tf.keras.layers.GlobalAveragePooling1D(),\n",
    "  tf.keras.layers.Dense(2),\n",
    "])\n",
    "\n",
    "\n",
    "model.compile(loss='mse', optimizer=tf.keras.optimizers.Adam(learning_rate = 0.001), metrics=['mae'])\n",
    "\n",
    "train_steps_per_epoch = math.ceil(len(train_ids) / BATCH_SIZE)\n",
    "test_steps_per_epoch = math.ceil(len(test_ids) / BATCH_SIZE)\n",
    "\n",
    "model.summary()"
   ]
  },
  {
   "cell_type": "code",
   "execution_count": null,
   "id": "cfc98053-7ca1-4834-b555-d30265665784",
   "metadata": {},
   "outputs": [
    {
     "name": "stdout",
     "output_type": "stream",
     "text": [
      "Epoch 54/100\n",
      "2/2 [==============================] - 2s 2s/step - loss: 0.4353 - mae: 0.4919 - val_loss: 0.4721 - val_mae: 0.5557\n",
      "Epoch 55/100\n",
      "1/2 [==============>...............] - ETA: 0s - loss: 0.2939 - mae: 0.4152"
     ]
    }
   ],
   "source": [
    "model.fit(\n",
    "    train_dataset,\n",
    "    epochs=EPOCH, \n",
    "    steps_per_epoch=train_steps_per_epoch,\n",
    "    validation_data=test_dataset,\n",
    "    validation_steps= test_steps_per_epoch,\n",
    "    callbacks=[LossAndErrorPrintingCallback(), model_checkpoint_callback],\n",
    "    verbose=1\n",
    ")\n"
   ]
  },
  {
   "cell_type": "markdown",
   "id": "fe50bd2e-e839-41f1-b798-b965cf9947de",
   "metadata": {},
   "source": [
    "# 5. 결과 확인"
   ]
  },
  {
   "cell_type": "code",
   "execution_count": 34,
   "id": "b5a62671-b101-49a0-a60c-651564e8b09c",
   "metadata": {},
   "outputs": [],
   "source": [
    "# Best 모델 저장 시 모니터링 하지 않았던 다른 데이터로 평가하는 것이 더 적절하지만, \n",
    "# 데이터가 너무 적어 동일한 데이터로 결과 확인 \n",
    "# (향후 실제 녹음한 다른 오디오로 테스트 해봐야 할 듯)\n",
    "model.load_weights(checkpoint_filepath)\n",
    "\n",
    "pred = []\n",
    "true = []\n",
    "for d in test_dataset:\n",
    "    pred += model(d[0]).numpy().tolist()\n",
    "    true += d[1].numpy().tolist() \n",
    "\n",
    "pred = (np.array(pred)*norm_sd)+norm_m\n",
    "true = (np.array(true)*norm_sd)+norm_m"
   ]
  },
  {
   "cell_type": "code",
   "execution_count": 35,
   "id": "0554ef32-9342-4198-b2fc-c9209d80046b",
   "metadata": {},
   "outputs": [
    {
     "name": "stdout",
     "output_type": "stream",
     "text": [
      "MAE: 0.43301526470693463, R: 0.6978296365335875\n"
     ]
    },
    {
     "data": {
      "image/png": "[encoded data removed]",
      "text/plain": [
       "<Figure size 432x288 with 1 Axes>"
      ]
     },
     "metadata": {
      "needs_background": "light"
     },
     "output_type": "display_data"
    }
   ],
   "source": [
    "from sklearn.metrics import r2_score\n",
    "# Breathing Cycle 길이 평균 (초)\n",
    "plt.scatter(pred[:,0], true[:,0])\n",
    "plt.xlim(1, 5.5)\n",
    "plt.ylim(1, 5.5)\n",
    "\n",
    "print(\"MAE: {}, R: {}\".format(np.mean(np.abs(pred[:,0] - true[:,0])), np.corrcoef(pred[:,0], true[:,0])[0,1]))"
   ]
  },
  {
   "cell_type": "code",
   "execution_count": 36,
   "id": "ffac1a4b-3efe-482d-8a77-c8d963f9f5e0",
   "metadata": {},
   "outputs": [
    {
     "name": "stdout",
     "output_type": "stream",
     "text": [
      "MAE: 0.3964661851655349, R: 0.31095952903165525\n"
     ]
    },
    {
     "data": {
      "image/png": "[encoded data removed]",
      "text/plain": [
       "<Figure size 432x288 with 1 Axes>"
      ]
     },
     "metadata": {
      "needs_background": "light"
     },
     "output_type": "display_data"
    }
   ],
   "source": [
    "# Breathing Cycle 길이 분산\n",
    "plt.scatter(pred[:,1], true[:,1])\n",
    "plt.xlim(0, 1.5)\n",
    "plt.ylim(0, 1.5)\n",
    "\n",
    "print(\"MAE: {}, R: {}\".format(np.mean(np.abs(pred[:,1] - true[:,1])), np.corrcoef(pred[:,1], true[:,1])[0,1]))"
   ]
  },
  {
   "cell_type": "markdown",
   "id": "f28b58cd-bede-4402-8cfe-c9c97b0b6bd3",
   "metadata": {},
   "source": [
    "### 분당 호흡수를 구하려면 \"60 / 호흡 길이 평균\""
   ]
  },
  {
   "cell_type": "code",
   "execution_count": 37,
   "id": "fa50fa0e-8588-429d-8a9b-97654090a846",
   "metadata": {},
   "outputs": [
    {
     "name": "stdout",
     "output_type": "stream",
     "text": [
      "MAE: 4.799195063953069, R: 0.7527069485619481\n"
     ]
    },
    {
     "data": {
      "image/png": "[encoded data removed]",
      "text/plain": [
       "<Figure size 432x288 with 1 Axes>"
      ]
     },
     "metadata": {
      "needs_background": "light"
     },
     "output_type": "display_data"
    }
   ],
   "source": [
    "# 분당 호흡수\n",
    "plt.scatter(60/pred[:,0], 60/true[:,0])\n",
    "plt.xlim(5, 40)\n",
    "plt.ylim(5, 40)\n",
    "\n",
    "print(\"MAE: {}, R: {}\".format(np.mean(np.abs(60/pred[:,0] - 60/true[:,0])), np.corrcoef(60/pred[:,0], 60/true[:,0])[0,1]))"
   ]
  },
  {
   "cell_type": "code",
   "execution_count": 38,
   "id": "813c9970-d819-4a0c-88c1-db8316a99561",
   "metadata": {},
   "outputs": [
    {
     "data": {
      "text/plain": [
       "0.5627077825990354"
      ]
     },
     "execution_count": 38,
     "metadata": {},
     "output_type": "execute_result"
    }
   ],
   "source": [
    "r2_score(60/true[:,0], 60/pred[:,0])"
   ]
  },
  {
   "cell_type": "code",
   "execution_count": null,
   "id": "dcd7d597-ed01-46da-8163-3fc7b26c535f",
   "metadata": {},
   "outputs": [],
   "source": []
  }
 ],
 "metadata": {
  "kernelspec": {
   "display_name": "tf2.8",
   "language": "python",
   "name": "tf2.8"
  },
  "language_info": {
   "codemirror_mode": {
    "name": "ipython",
    "version": 3
   },
   "file_extension": ".py",
   "mimetype": "text/x-python",
   "name": "python",
   "nbconvert_exporter": "python",
   "pygments_lexer": "ipython3",
   "version": "3.8.13"
  }
 },
 "nbformat": 4,
 "nbformat_minor": 5
}

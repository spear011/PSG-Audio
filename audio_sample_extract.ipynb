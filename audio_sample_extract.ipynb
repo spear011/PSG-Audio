{
 "cells": [
  {
   "cell_type": "code",
   "execution_count": 10,
   "metadata": {},
   "outputs": [],
   "source": [
    "import numpy as np\n",
    "from pyedflib import highlevel\n",
    "import matplotlib.pyplot as plt\n",
    "import os\n",
    "import glob\n",
    "import pandas as pd\n",
    "import random\n",
    "import shutil\n",
    "\n",
    "from IPython.display import clear_output\n",
    "import IPython\n",
    "\n",
    "import soundfile as sf"
   ]
  },
  {
   "cell_type": "code",
   "execution_count": 16,
   "metadata": {},
   "outputs": [],
   "source": [
    "data_folder = './data/psg_audio/edf/00000995-100507/*'\n",
    "file_lists = glob.glob(data_folder)\n",
    "\n",
    "sr = 48000"
   ]
  },
  {
   "cell_type": "code",
   "execution_count": 55,
   "metadata": {},
   "outputs": [],
   "source": [
    "mic_signals = []\n",
    "\n",
    "for i in file_lists:\n",
    "    signals, signal_headers, header = highlevel.read_edf(i)\n",
    "    mic_signals.append(signals[-2])"
   ]
  },
  {
   "cell_type": "code",
   "execution_count": 41,
   "metadata": {},
   "outputs": [],
   "source": [
    "def random_starting(signal, sr):\n",
    "    starting_point = random.randrange(0, len(signal) - sr*60, sr)\n",
    "    return starting_point"
   ]
  },
  {
   "cell_type": "code",
   "execution_count": 64,
   "metadata": {},
   "outputs": [],
   "source": [
    "for i in range(len(mic_signals)):\n",
    "    sr = 48000\n",
    "    starting_point = random_starting(mic_signals[i], sr=sr)\n",
    "    sf.write('./test{}.wav'.format(i + 1), mic_signals[i][starting_point : starting_point + 60*sr], sr)"
   ]
  }
 ],
 "metadata": {
  "kernelspec": {
   "display_name": "rem_projects",
   "language": "python",
   "name": "python3"
  },
  "language_info": {
   "codemirror_mode": {
    "name": "ipython",
    "version": 3
   },
   "file_extension": ".py",
   "mimetype": "text/x-python",
   "name": "python",
   "nbconvert_exporter": "python",
   "pygments_lexer": "ipython3",
   "version": "3.9.0"
  },
  "orig_nbformat": 4,
  "vscode": {
   "interpreter": {
    "hash": "0c617eccd62692b7a47c14a033a53f7184055873b06c730cfdbda6b4494bc8b6"
   }
  }
 },
 "nbformat": 4,
 "nbformat_minor": 2
}

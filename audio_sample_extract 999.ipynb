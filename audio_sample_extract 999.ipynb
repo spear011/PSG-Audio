{
 "cells": [
  {
   "cell_type": "code",
   "execution_count": 4,
   "metadata": {},
   "outputs": [],
   "source": [
    "import numpy as np\n",
    "from pyedflib import highlevel\n",
    "import matplotlib.pyplot as plt\n",
    "import os\n",
    "import glob\n",
    "import pandas as pd\n",
    "import random\n",
    "import shutil\n",
    "\n",
    "from IPython.display import clear_output\n",
    "import IPython\n",
    "\n",
    "import soundfile as sf"
   ]
  },
  {
   "cell_type": "code",
   "execution_count": 5,
   "metadata": {},
   "outputs": [],
   "source": [
    "data_folder = './data/psg_audio/edf/00000999-100507/*'\n",
    "file_lists = glob.glob(data_folder)\n",
    "\n",
    "sr = 48000"
   ]
  },
  {
   "cell_type": "code",
   "execution_count": 6,
   "metadata": {},
   "outputs": [],
   "source": [
    "mic_signals = []\n",
    "t_mic_signals = []\n",
    "\n",
    "for i in file_lists:\n",
    "    signals, signal_headers, header = highlevel.read_edf(i)\n",
    "    mic_signals.append(signals[-2])\n",
    "    t_mic_signals.append(signals[-1])"
   ]
  },
  {
   "cell_type": "code",
   "execution_count": 7,
   "metadata": {},
   "outputs": [
    {
     "data": {
      "text/plain": [
       "2487"
      ]
     },
     "execution_count": 7,
     "metadata": {},
     "output_type": "execute_result"
    }
   ],
   "source": [
    "13287 - (3600 * 3)"
   ]
  },
  {
   "cell_type": "code",
   "execution_count": 8,
   "metadata": {},
   "outputs": [],
   "source": [
    "# CentralApnea\t13287.5\t17.0\t\n",
    "starting_point = 2487 * 48000\n",
    "\n",
    "sf.write('./data/psg_audio/test_resp/CentralApnea_mic.wav', mic_signals[3][starting_point : starting_point + 18*sr], sr)\n",
    "sf.write('./data/psg_audio/test_resp/CentralApnea_t_mic.wav', t_mic_signals[3][starting_point : starting_point + 18*sr], sr)"
   ]
  },
  {
   "cell_type": "code",
   "execution_count": 18,
   "metadata": {},
   "outputs": [
    {
     "data": {
      "text/plain": [
       "3139"
      ]
     },
     "execution_count": 18,
     "metadata": {},
     "output_type": "execute_result"
    }
   ],
   "source": [
    "17539 - (3600 * 4)"
   ]
  },
  {
   "cell_type": "code",
   "execution_count": 19,
   "metadata": {},
   "outputs": [],
   "source": [
    "# ObstructiveApnea\t17539.5\t21.0\n",
    "\n",
    "starting_point = 3139 * sr\n",
    "\n",
    "sf.write('./data/psg_audio/test_resp/ObstructiveApnea_mic.wav', mic_signals[4][starting_point : starting_point + 22*sr], sr)\n",
    "sf.write('./data/psg_audio/test_resp/ObstructiveApnea_t_mic.wav', t_mic_signals[4][starting_point : starting_point + 22*sr], sr)"
   ]
  },
  {
   "cell_type": "code",
   "execution_count": 20,
   "metadata": {},
   "outputs": [
    {
     "data": {
      "text/plain": [
       "2448"
      ]
     },
     "execution_count": 20,
     "metadata": {},
     "output_type": "execute_result"
    }
   ],
   "source": [
    "16848 - (3600 * 4)"
   ]
  },
  {
   "cell_type": "code",
   "execution_count": 21,
   "metadata": {},
   "outputs": [],
   "source": [
    "# MixedApnea\t16848.5\t 17.5\n",
    "\n",
    "starting_point = 2448 * sr\n",
    "\n",
    "sf.write('./data/psg_audio/test_resp/MixedApnea_mic.wav', mic_signals[4][starting_point : starting_point + 19*sr], sr)\n",
    "sf.write('./data/psg_audio/test_resp/MixedApnea_t_mic.wav', t_mic_signals[4][starting_point : starting_point + 19*sr], sr)"
   ]
  },
  {
   "cell_type": "code",
   "execution_count": null,
   "metadata": {},
   "outputs": [],
   "source": []
  }
 ],
 "metadata": {
  "kernelspec": {
   "display_name": "rem_projects",
   "language": "python",
   "name": "python3"
  },
  "language_info": {
   "codemirror_mode": {
    "name": "ipython",
    "version": 3
   },
   "file_extension": ".py",
   "mimetype": "text/x-python",
   "name": "python",
   "nbconvert_exporter": "python",
   "pygments_lexer": "ipython3",
   "version": "3.9.0"
  },
  "orig_nbformat": 4,
  "vscode": {
   "interpreter": {
    "hash": "0c617eccd62692b7a47c14a033a53f7184055873b06c730cfdbda6b4494bc8b6"
   }
  }
 },
 "nbformat": 4,
 "nbformat_minor": 2
}

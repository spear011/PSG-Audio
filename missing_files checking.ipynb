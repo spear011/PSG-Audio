{
 "cells": [
  {
   "cell_type": "code",
   "execution_count": 2,
   "metadata": {},
   "outputs": [],
   "source": [
    "import urllib.request\n",
    "import os\n",
    "from tqdm import tqdm\n",
    "import requests\n",
    "import re\n",
    "from urllib.parse import unquote\n",
    "from IPython.display import clear_output\n",
    "\n",
    "from dotenv import load_dotenv\n"
   ]
  },
  {
   "cell_type": "code",
   "execution_count": 21,
   "metadata": {},
   "outputs": [],
   "source": [
    "save_dir = 'E:/REM Detection/Data'\n",
    "url_path = './data/psg_audio/data_url.txt'\n"
   ]
  },
  {
   "cell_type": "code",
   "execution_count": 22,
   "metadata": {},
   "outputs": [],
   "source": [
    "# get file name lists in save_dir also inside subfolders\n",
    "def get_file_name_list(path):\n",
    "    file_name_list = []\n",
    "    for root, dirs, files in os.walk(path):\n",
    "        for file in files:\n",
    "            file_name_list.append(file)\n",
    "    return file_name_list\n",
    "\n",
    "file_name_list = get_file_name_list(save_dir)\n"
   ]
  },
  {
   "cell_type": "code",
   "execution_count": 23,
   "metadata": {},
   "outputs": [],
   "source": [
    "with open(url_path, 'r') as file:\n",
    "    urls = file.readlines() \n",
    "\n",
    "missing_file = []\n",
    "for url in urls:\n",
    "    url = url.strip()\n",
    "    filename = re.findall(r'fileName=(.+)', url)[0]\n",
    "    file_extension = os.path.splitext(filename)[1].lower()\n",
    "    if file_extension == '.edf':\n",
    "        filename = unquote(filename)\n",
    "        filename = filename.replace('-100507', '').replace('[', '_').replace(']', '')\n",
    "    if filename in file_name_list:\n",
    "        continue\n",
    "    else:\n",
    "        missing_file.append(filename)\n"
   ]
  },
  {
   "cell_type": "code",
   "execution_count": 24,
   "metadata": {},
   "outputs": [
    {
     "name": "stdout",
     "output_type": "stream",
     "text": [
      "4\n"
     ]
    }
   ],
   "source": [
    "print(len(missing_file))"
   ]
  },
  {
   "cell_type": "code",
   "execution_count": 25,
   "metadata": {},
   "outputs": [
    {
     "data": {
      "text/plain": [
       "['.DS_Store', '.DS_Store', '.00001394-100507%5B003%5D.edf.cQ8suF', '.DS_Store']"
      ]
     },
     "execution_count": 25,
     "metadata": {},
     "output_type": "execute_result"
    }
   ],
   "source": [
    "missing_file"
   ]
  }
 ],
 "metadata": {
  "kernelspec": {
   "display_name": "rem_projects",
   "language": "python",
   "name": "python3"
  },
  "language_info": {
   "codemirror_mode": {
    "name": "ipython",
    "version": 3
   },
   "file_extension": ".py",
   "mimetype": "text/x-python",
   "name": "python",
   "nbconvert_exporter": "python",
   "pygments_lexer": "ipython3",
   "version": "3.9.0"
  },
  "orig_nbformat": 4,
  "vscode": {
   "interpreter": {
    "hash": "0c617eccd62692b7a47c14a033a53f7184055873b06c730cfdbda6b4494bc8b6"
   }
  }
 },
 "nbformat": 4,
 "nbformat_minor": 2
}

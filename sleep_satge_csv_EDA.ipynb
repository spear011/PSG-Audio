{
 "cells": [
  {
   "cell_type": "code",
   "execution_count": 1,
   "metadata": {},
   "outputs": [],
   "source": [
    "import pandas as pd\n",
    "import numpy as np\n",
    "import matplotlib.pyplot as plt\n",
    "import os"
   ]
  },
  {
   "cell_type": "code",
   "execution_count": 2,
   "metadata": {},
   "outputs": [],
   "source": [
    "df = pd.read_csv('./data/sleep_stage_respiratory_info.csv')"
   ]
  },
  {
   "cell_type": "code",
   "execution_count": 3,
   "metadata": {},
   "outputs": [],
   "source": [
    "respiratory_columns = ['event_start_time' ,'event_end_time', 'event_duration', 'respiratory_type']"
   ]
  },
  {
   "cell_type": "code",
   "execution_count": 4,
   "metadata": {},
   "outputs": [],
   "source": [
    "# drop respiratory_columns\n",
    "sleep_df = df.drop(respiratory_columns, axis=1)"
   ]
  },
  {
   "cell_type": "code",
   "execution_count": 5,
   "metadata": {},
   "outputs": [],
   "source": [
    "sleep_df.drop_duplicates(inplace=True)"
   ]
  },
  {
   "cell_type": "code",
   "execution_count": 6,
   "metadata": {},
   "outputs": [],
   "source": [
    "sleep_df.reset_index(drop=True, inplace=True)"
   ]
  },
  {
   "cell_type": "code",
   "execution_count": 7,
   "metadata": {},
   "outputs": [
    {
     "data": {
      "text/html": [
       "<div>\n",
       "<style scoped>\n",
       "    .dataframe tbody tr th:only-of-type {\n",
       "        vertical-align: middle;\n",
       "    }\n",
       "\n",
       "    .dataframe tbody tr th {\n",
       "        vertical-align: top;\n",
       "    }\n",
       "\n",
       "    .dataframe thead th {\n",
       "        text-align: right;\n",
       "    }\n",
       "</style>\n",
       "<table border=\"1\" class=\"dataframe\">\n",
       "  <thead>\n",
       "    <tr style=\"text-align: right;\">\n",
       "      <th></th>\n",
       "      <th>patient_id</th>\n",
       "      <th>stage_start_time</th>\n",
       "      <th>stage_end_time</th>\n",
       "      <th>stage_duration</th>\n",
       "      <th>stage_type</th>\n",
       "      <th>raw_audio_file_id</th>\n",
       "    </tr>\n",
       "  </thead>\n",
       "  <tbody>\n",
       "    <tr>\n",
       "      <th>0</th>\n",
       "      <td>995</td>\n",
       "      <td>0.0</td>\n",
       "      <td>210.0</td>\n",
       "      <td>210.0</td>\n",
       "      <td>Wake</td>\n",
       "      <td>00000995_01_000</td>\n",
       "    </tr>\n",
       "    <tr>\n",
       "      <th>1</th>\n",
       "      <td>995</td>\n",
       "      <td>210.0</td>\n",
       "      <td>300.0</td>\n",
       "      <td>90.0</td>\n",
       "      <td>NonREM1</td>\n",
       "      <td>00000995_01_001</td>\n",
       "    </tr>\n",
       "    <tr>\n",
       "      <th>2</th>\n",
       "      <td>995</td>\n",
       "      <td>300.0</td>\n",
       "      <td>870.0</td>\n",
       "      <td>570.0</td>\n",
       "      <td>NonREM2</td>\n",
       "      <td>00000995_01_002</td>\n",
       "    </tr>\n",
       "    <tr>\n",
       "      <th>3</th>\n",
       "      <td>995</td>\n",
       "      <td>870.0</td>\n",
       "      <td>930.0</td>\n",
       "      <td>60.0</td>\n",
       "      <td>Wake</td>\n",
       "      <td>00000995_01_003</td>\n",
       "    </tr>\n",
       "    <tr>\n",
       "      <th>4</th>\n",
       "      <td>995</td>\n",
       "      <td>930.0</td>\n",
       "      <td>960.0</td>\n",
       "      <td>30.0</td>\n",
       "      <td>NonREM1</td>\n",
       "      <td>00000995_01_004</td>\n",
       "    </tr>\n",
       "    <tr>\n",
       "      <th>...</th>\n",
       "      <td>...</td>\n",
       "      <td>...</td>\n",
       "      <td>...</td>\n",
       "      <td>...</td>\n",
       "      <td>...</td>\n",
       "      <td>...</td>\n",
       "    </tr>\n",
       "    <tr>\n",
       "      <th>14078</th>\n",
       "      <td>1701</td>\n",
       "      <td>17250.0</td>\n",
       "      <td>17280.0</td>\n",
       "      <td>30.0</td>\n",
       "      <td>NonREM1</td>\n",
       "      <td>00001701_05_29</td>\n",
       "    </tr>\n",
       "    <tr>\n",
       "      <th>14079</th>\n",
       "      <td>1701</td>\n",
       "      <td>17280.0</td>\n",
       "      <td>17700.0</td>\n",
       "      <td>420.0</td>\n",
       "      <td>NonREM2</td>\n",
       "      <td>00001701_05_30</td>\n",
       "    </tr>\n",
       "    <tr>\n",
       "      <th>14080</th>\n",
       "      <td>1701</td>\n",
       "      <td>17700.0</td>\n",
       "      <td>17820.0</td>\n",
       "      <td>120.0</td>\n",
       "      <td>NonREM1</td>\n",
       "      <td>00001701_05_31</td>\n",
       "    </tr>\n",
       "    <tr>\n",
       "      <th>14081</th>\n",
       "      <td>1701</td>\n",
       "      <td>17820.0</td>\n",
       "      <td>18840.0</td>\n",
       "      <td>1020.0</td>\n",
       "      <td>NonREM2</td>\n",
       "      <td>00001701_05_32</td>\n",
       "    </tr>\n",
       "    <tr>\n",
       "      <th>14082</th>\n",
       "      <td>1701</td>\n",
       "      <td>18840.0</td>\n",
       "      <td>18870.0</td>\n",
       "      <td>30.0</td>\n",
       "      <td>Wake</td>\n",
       "      <td>00001701_06_33</td>\n",
       "    </tr>\n",
       "  </tbody>\n",
       "</table>\n",
       "<p>14083 rows × 6 columns</p>\n",
       "</div>"
      ],
      "text/plain": [
       "       patient_id  stage_start_time  stage_end_time  stage_duration  \\\n",
       "0             995               0.0           210.0           210.0   \n",
       "1             995             210.0           300.0            90.0   \n",
       "2             995             300.0           870.0           570.0   \n",
       "3             995             870.0           930.0            60.0   \n",
       "4             995             930.0           960.0            30.0   \n",
       "...           ...               ...             ...             ...   \n",
       "14078        1701           17250.0         17280.0            30.0   \n",
       "14079        1701           17280.0         17700.0           420.0   \n",
       "14080        1701           17700.0         17820.0           120.0   \n",
       "14081        1701           17820.0         18840.0          1020.0   \n",
       "14082        1701           18840.0         18870.0            30.0   \n",
       "\n",
       "      stage_type raw_audio_file_id  \n",
       "0           Wake   00000995_01_000  \n",
       "1        NonREM1   00000995_01_001  \n",
       "2        NonREM2   00000995_01_002  \n",
       "3           Wake   00000995_01_003  \n",
       "4        NonREM1   00000995_01_004  \n",
       "...          ...               ...  \n",
       "14078    NonREM1    00001701_05_29  \n",
       "14079    NonREM2    00001701_05_30  \n",
       "14080    NonREM1    00001701_05_31  \n",
       "14081    NonREM2    00001701_05_32  \n",
       "14082       Wake    00001701_06_33  \n",
       "\n",
       "[14083 rows x 6 columns]"
      ]
     },
     "execution_count": 7,
     "metadata": {},
     "output_type": "execute_result"
    }
   ],
   "source": [
    "sleep_df"
   ]
  },
  {
   "cell_type": "code",
   "execution_count": 8,
   "metadata": {},
   "outputs": [],
   "source": [
    "# group by patient id and show me the logest sleep duration\n",
    "\n",
    "sleep_hr = sleep_df.groupby('patient_id')['stage_end_time'].max().sort_values(ascending=True) / 3600"
   ]
  },
  {
   "cell_type": "code",
   "execution_count": 9,
   "metadata": {},
   "outputs": [],
   "source": [
    "sleep_hr_df = pd.DataFrame(sleep_hr).reset_index()"
   ]
  },
  {
   "cell_type": "code",
   "execution_count": 10,
   "metadata": {},
   "outputs": [],
   "source": [
    "sleep_hr_df.rename(columns={'stage_end_time': 'sleep_duration'}, inplace=True)"
   ]
  },
  {
   "cell_type": "code",
   "execution_count": 11,
   "metadata": {},
   "outputs": [
    {
     "data": {
      "text/html": [
       "<div>\n",
       "<style scoped>\n",
       "    .dataframe tbody tr th:only-of-type {\n",
       "        vertical-align: middle;\n",
       "    }\n",
       "\n",
       "    .dataframe tbody tr th {\n",
       "        vertical-align: top;\n",
       "    }\n",
       "\n",
       "    .dataframe thead th {\n",
       "        text-align: right;\n",
       "    }\n",
       "</style>\n",
       "<table border=\"1\" class=\"dataframe\">\n",
       "  <thead>\n",
       "    <tr style=\"text-align: right;\">\n",
       "      <th></th>\n",
       "      <th>patient_id</th>\n",
       "      <th>sleep_duration</th>\n",
       "    </tr>\n",
       "  </thead>\n",
       "  <tbody>\n",
       "    <tr>\n",
       "      <th>0</th>\n",
       "      <td>1135</td>\n",
       "      <td>2.475000</td>\n",
       "    </tr>\n",
       "    <tr>\n",
       "      <th>1</th>\n",
       "      <td>1453</td>\n",
       "      <td>2.541667</td>\n",
       "    </tr>\n",
       "    <tr>\n",
       "      <th>2</th>\n",
       "      <td>1659</td>\n",
       "      <td>2.650000</td>\n",
       "    </tr>\n",
       "    <tr>\n",
       "      <th>3</th>\n",
       "      <td>1567</td>\n",
       "      <td>2.716667</td>\n",
       "    </tr>\n",
       "    <tr>\n",
       "      <th>4</th>\n",
       "      <td>1333</td>\n",
       "      <td>2.791667</td>\n",
       "    </tr>\n",
       "    <tr>\n",
       "      <th>...</th>\n",
       "      <td>...</td>\n",
       "      <td>...</td>\n",
       "    </tr>\n",
       "    <tr>\n",
       "      <th>281</th>\n",
       "      <td>1619</td>\n",
       "      <td>7.366667</td>\n",
       "    </tr>\n",
       "    <tr>\n",
       "      <th>282</th>\n",
       "      <td>1382</td>\n",
       "      <td>7.633333</td>\n",
       "    </tr>\n",
       "    <tr>\n",
       "      <th>283</th>\n",
       "      <td>1556</td>\n",
       "      <td>7.783333</td>\n",
       "    </tr>\n",
       "    <tr>\n",
       "      <th>284</th>\n",
       "      <td>1287</td>\n",
       "      <td>8.083333</td>\n",
       "    </tr>\n",
       "    <tr>\n",
       "      <th>285</th>\n",
       "      <td>1394</td>\n",
       "      <td>8.991667</td>\n",
       "    </tr>\n",
       "  </tbody>\n",
       "</table>\n",
       "<p>286 rows × 2 columns</p>\n",
       "</div>"
      ],
      "text/plain": [
       "     patient_id  sleep_duration\n",
       "0          1135        2.475000\n",
       "1          1453        2.541667\n",
       "2          1659        2.650000\n",
       "3          1567        2.716667\n",
       "4          1333        2.791667\n",
       "..          ...             ...\n",
       "281        1619        7.366667\n",
       "282        1382        7.633333\n",
       "283        1556        7.783333\n",
       "284        1287        8.083333\n",
       "285        1394        8.991667\n",
       "\n",
       "[286 rows x 2 columns]"
      ]
     },
     "execution_count": 11,
     "metadata": {},
     "output_type": "execute_result"
    }
   ],
   "source": [
    "sleep_hr_df"
   ]
  },
  {
   "cell_type": "code",
   "execution_count": 12,
   "metadata": {},
   "outputs": [],
   "source": [
    "# if sleep_duration between 2 and 3 hours make column sleep_hour = 3\n",
    "\n",
    "sleep_hr_df.loc[(sleep_hr_df['sleep_duration'] >= 2) & (sleep_hr_df['sleep_duration'] < 3), 'sleep_hour'] = 3\n",
    "sleep_hr_df.loc[(sleep_hr_df['sleep_duration'] >= 3) & (sleep_hr_df['sleep_duration'] < 4), 'sleep_hour'] = 4\n",
    "sleep_hr_df.loc[(sleep_hr_df['sleep_duration'] >= 4) & (sleep_hr_df['sleep_duration'] < 5), 'sleep_hour'] = 5\n",
    "sleep_hr_df.loc[(sleep_hr_df['sleep_duration'] >= 5) & (sleep_hr_df['sleep_duration'] < 6), 'sleep_hour'] = 6\n",
    "sleep_hr_df.loc[(sleep_hr_df['sleep_duration'] >= 6) & (sleep_hr_df['sleep_duration'] < 7), 'sleep_hour'] = 7\n",
    "sleep_hr_df.loc[(sleep_hr_df['sleep_duration'] >= 7) & (sleep_hr_df['sleep_duration'] < 8), 'sleep_hour'] = 8\n",
    "sleep_hr_df.loc[(sleep_hr_df['sleep_duration'] >= 8) & (sleep_hr_df['sleep_duration'] < 9), 'sleep_hour'] = 9"
   ]
  },
  {
   "cell_type": "code",
   "execution_count": 23,
   "metadata": {},
   "outputs": [
    {
     "data": {
      "image/png": "[encoded data removed]",
      "text/plain": [
       "<Figure size 432x288 with 1 Axes>"
      ]
     },
     "metadata": {
      "needs_background": "light"
     },
     "output_type": "display_data"
    }
   ],
   "source": [
    "sleep_hr_df.drop('sleep_duration', axis=1).groupby('sleep_hour').count().plot(kind='bar')\n",
    "# show only patient_id column\n",
    "plt.xticks(rotation=0)\n",
    "# xticks 2~3, 3~4, 4~5, 5~6, 6~7, 7~8, 8~9\n",
    "plt.xticks(np.arange(7), ('2~3', '3~4', '4~5', '5~6', '6~7', '7~8', '8~9'))\n",
    "# add title and axis names\n",
    "plt.title('Sleep Hour Distribution')\n",
    "plt.xlabel('Sleep Duration')\n",
    "plt.ylabel('Count')\n",
    "# add count on top of each bar\n",
    "for index, data in enumerate(sleep_hr_df.groupby('sleep_hour').count()['patient_id']):\n",
    "    plt.text(x=index , y =data+1 , s=f\"{data}\" , fontdict=dict(fontsize=10))\n",
    "plt.show()"
   ]
  },
  {
   "cell_type": "code",
   "execution_count": 22,
   "metadata": {},
   "outputs": [
    {
     "data": {
      "text/html": [
       "<div>\n",
       "<style scoped>\n",
       "    .dataframe tbody tr th:only-of-type {\n",
       "        vertical-align: middle;\n",
       "    }\n",
       "\n",
       "    .dataframe tbody tr th {\n",
       "        vertical-align: top;\n",
       "    }\n",
       "\n",
       "    .dataframe thead th {\n",
       "        text-align: right;\n",
       "    }\n",
       "</style>\n",
       "<table border=\"1\" class=\"dataframe\">\n",
       "  <thead>\n",
       "    <tr style=\"text-align: right;\">\n",
       "      <th></th>\n",
       "      <th>patient_id</th>\n",
       "      <th>sleep_duration</th>\n",
       "      <th>sleep_hour</th>\n",
       "    </tr>\n",
       "  </thead>\n",
       "  <tbody>\n",
       "    <tr>\n",
       "      <th>0</th>\n",
       "      <td>1135</td>\n",
       "      <td>2.475000</td>\n",
       "      <td>3.0</td>\n",
       "    </tr>\n",
       "    <tr>\n",
       "      <th>1</th>\n",
       "      <td>1453</td>\n",
       "      <td>2.541667</td>\n",
       "      <td>3.0</td>\n",
       "    </tr>\n",
       "    <tr>\n",
       "      <th>2</th>\n",
       "      <td>1659</td>\n",
       "      <td>2.650000</td>\n",
       "      <td>3.0</td>\n",
       "    </tr>\n",
       "    <tr>\n",
       "      <th>3</th>\n",
       "      <td>1567</td>\n",
       "      <td>2.716667</td>\n",
       "      <td>3.0</td>\n",
       "    </tr>\n",
       "    <tr>\n",
       "      <th>4</th>\n",
       "      <td>1333</td>\n",
       "      <td>2.791667</td>\n",
       "      <td>3.0</td>\n",
       "    </tr>\n",
       "    <tr>\n",
       "      <th>...</th>\n",
       "      <td>...</td>\n",
       "      <td>...</td>\n",
       "      <td>...</td>\n",
       "    </tr>\n",
       "    <tr>\n",
       "      <th>281</th>\n",
       "      <td>1619</td>\n",
       "      <td>7.366667</td>\n",
       "      <td>8.0</td>\n",
       "    </tr>\n",
       "    <tr>\n",
       "      <th>282</th>\n",
       "      <td>1382</td>\n",
       "      <td>7.633333</td>\n",
       "      <td>8.0</td>\n",
       "    </tr>\n",
       "    <tr>\n",
       "      <th>283</th>\n",
       "      <td>1556</td>\n",
       "      <td>7.783333</td>\n",
       "      <td>8.0</td>\n",
       "    </tr>\n",
       "    <tr>\n",
       "      <th>284</th>\n",
       "      <td>1287</td>\n",
       "      <td>8.083333</td>\n",
       "      <td>9.0</td>\n",
       "    </tr>\n",
       "    <tr>\n",
       "      <th>285</th>\n",
       "      <td>1394</td>\n",
       "      <td>8.991667</td>\n",
       "      <td>9.0</td>\n",
       "    </tr>\n",
       "  </tbody>\n",
       "</table>\n",
       "<p>286 rows × 3 columns</p>\n",
       "</div>"
      ],
      "text/plain": [
       "     patient_id  sleep_duration  sleep_hour\n",
       "0          1135        2.475000         3.0\n",
       "1          1453        2.541667         3.0\n",
       "2          1659        2.650000         3.0\n",
       "3          1567        2.716667         3.0\n",
       "4          1333        2.791667         3.0\n",
       "..          ...             ...         ...\n",
       "281        1619        7.366667         8.0\n",
       "282        1382        7.633333         8.0\n",
       "283        1556        7.783333         8.0\n",
       "284        1287        8.083333         9.0\n",
       "285        1394        8.991667         9.0\n",
       "\n",
       "[286 rows x 3 columns]"
      ]
     },
     "execution_count": 22,
     "metadata": {},
     "output_type": "execute_result"
    }
   ],
   "source": [
    "sleep_hr_df"
   ]
  },
  {
   "cell_type": "code",
   "execution_count": 25,
   "metadata": {},
   "outputs": [
    {
     "data": {
      "text/plain": [
       "32364.0"
      ]
     },
     "execution_count": 25,
     "metadata": {},
     "output_type": "execute_result"
    }
   ],
   "source": [
    "8.99 * 3600"
   ]
  },
  {
   "cell_type": "code",
   "execution_count": null,
   "metadata": {},
   "outputs": [],
   "source": []
  }
 ],
 "metadata": {
  "kernelspec": {
   "display_name": "rem_projects",
   "language": "python",
   "name": "python3"
  },
  "language_info": {
   "codemirror_mode": {
    "name": "ipython",
    "version": 3
   },
   "file_extension": ".py",
   "mimetype": "text/x-python",
   "name": "python",
   "nbconvert_exporter": "python",
   "pygments_lexer": "ipython3",
   "version": "3.9.0"
  },
  "orig_nbformat": 4,
  "vscode": {
   "interpreter": {
    "hash": "0c617eccd62692b7a47c14a033a53f7184055873b06c730cfdbda6b4494bc8b6"
   }
  }
 },
 "nbformat": 4,
 "nbformat_minor": 2
}

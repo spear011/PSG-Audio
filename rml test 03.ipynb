{
 "cells": [
  {
   "cell_type": "code",
   "execution_count": 1,
   "metadata": {},
   "outputs": [],
   "source": [
    "import xml.etree.ElementTree as ET"
   ]
  },
  {
   "cell_type": "code",
   "execution_count": 2,
   "metadata": {},
   "outputs": [],
   "source": [
    "rml_file_path = './data/psg_audio/rml_clean/00001000-100507.rml'"
   ]
  },
  {
   "cell_type": "code",
   "execution_count": 3,
   "metadata": {},
   "outputs": [],
   "source": [
    "tree = ET.parse(rml_file_path)\n",
    "root = tree.getroot()"
   ]
  },
  {
   "cell_type": "code",
   "execution_count": 4,
   "metadata": {},
   "outputs": [
    {
     "name": "stdout",
     "output_type": "stream",
     "text": [
      "{http://www.respironics.com/PatientStudy.xsd}PatientStudy 6\n"
     ]
    }
   ],
   "source": [
    "print(root.tag, root.attrib.get('Version'))"
   ]
  },
  {
   "cell_type": "code",
   "execution_count": 5,
   "metadata": {},
   "outputs": [
    {
     "data": {
      "text/plain": [
       "['Patient',\n",
       " 'ChannelConfig',\n",
       " 'Acquisition',\n",
       " 'CustomEventTypeDefs',\n",
       " 'AcquisitionCommentDefs',\n",
       " 'ScoringData',\n",
       " 'AnalysisOptions',\n",
       " 'ReportCalcOptions',\n",
       " 'EventFilters',\n",
       " 'TrendChannelMappings',\n",
       " 'BodyPositionState']"
      ]
     },
     "execution_count": 5,
     "metadata": {},
     "output_type": "execute_result"
    }
   ],
   "source": [
    "taglists = []\n",
    "\n",
    "for child in root:\n",
    "    taglists.append(child.tag.split('}')[1]) \n",
    "\n",
    "taglists"
   ]
  },
  {
   "cell_type": "code",
   "execution_count": 6,
   "metadata": {},
   "outputs": [
    {
     "name": "stdout",
     "output_type": "stream",
     "text": [
      "{http://www.respironics.com/PatientStudy.xsd}ConfigName LDxS_PSG_AASM-C3-C4\n",
      "{http://www.respironics.com/PatientStudy.xsd}Channels \n",
      "         \n"
     ]
    }
   ],
   "source": [
    "for child in root[1]:\n",
    "    print(child.tag, child.text)"
   ]
  },
  {
   "cell_type": "code",
   "execution_count": 7,
   "metadata": {},
   "outputs": [
    {
     "name": "stdout",
     "output_type": "stream",
     "text": [
      "Male\n"
     ]
    }
   ],
   "source": [
    "ns = { 'study' : 'http://www.respironics.com/PatientStudy.xsd'}\n",
    "\n",
    "for patient in root.findall('study:Patient', ns):\n",
    "    gender = patient.find('study:Gender', ns)\n",
    "    print(gender.text)"
   ]
  },
  {
   "cell_type": "code",
   "execution_count": 8,
   "metadata": {},
   "outputs": [
    {
     "name": "stdout",
     "output_type": "stream",
     "text": [
      "1000\n"
     ]
    }
   ],
   "source": [
    "for AcqNumber in root.findall('study:Acquisition', ns):\n",
    "    number = AcqNumber.find('study:AcqNumber', ns)\n",
    "    print(number.text)"
   ]
  },
  {
   "cell_type": "code",
   "execution_count": 9,
   "metadata": {},
   "outputs": [
    {
     "name": "stdout",
     "output_type": "stream",
     "text": [
      "['1000']\n"
     ]
    }
   ],
   "source": [
    "ns = { 'study' : 'http://www.respironics.com/PatientStudy.xsd'}\n",
    "\n",
    "acq = root.findall('study:Acquisition', ns)\n",
    "\n",
    "acq_number = [x.find('study:AcqNumber', ns).text for x in acq]\n",
    "\n",
    "print(acq_number)"
   ]
  },
  {
   "cell_type": "code",
   "execution_count": 10,
   "metadata": {},
   "outputs": [
    {
     "data": {
      "text/plain": [
       "<Element '{http://www.respironics.com/PatientStudy.xsd}Segments' at 0x00000226BC6EF4A0>"
      ]
     },
     "execution_count": 10,
     "metadata": {},
     "output_type": "execute_result"
    }
   ],
   "source": [
    "root.find('study:Acquisition', ns).find('study:Sessions', ns).find('study:Session', ns).find('study:Segments', ns)"
   ]
  },
  {
   "cell_type": "code",
   "execution_count": 11,
   "metadata": {},
   "outputs": [
    {
     "name": "stdout",
     "output_type": "stream",
     "text": [
      "['3600', '3600', '3600', '3600', '500']\n"
     ]
    }
   ],
   "source": [
    "segment = root.find('study:Acquisition', ns).find('study:Sessions', ns).find('study:Session', ns).find('study:Segments', ns)\n",
    "\n",
    "duration = [x.find('study:Duration', ns).text for x in segment]\n",
    "\n",
    "print(duration)"
   ]
  },
  {
   "cell_type": "code",
   "execution_count": 12,
   "metadata": {},
   "outputs": [],
   "source": [
    "stages = root.find('study:ScoringData', ns).find('study:StagingData', ns).find('study:UserStaging', ns).find('study:NeuroAdultAASMStaging', ns).findall('study:Stage', ns)\n",
    "\n",
    "wake = [x.attrib for x in stages if x.attrib.get('Type') == 'Wake']\n",
    "\n",
    "rem = [x.attrib for x in stages if x.attrib.get('Type') == 'REM']\n"
   ]
  },
  {
   "cell_type": "code",
   "execution_count": 13,
   "metadata": {},
   "outputs": [],
   "source": [
    "events = root.find('study:ScoringData', ns).find('study:Events', ns).findall('study:Event', ns)\n",
    "\n",
    "respiratory = [x.attrib for x in events if x.attrib.get('Family') == 'Respiratory']"
   ]
  },
  {
   "cell_type": "code",
   "execution_count": 14,
   "metadata": {},
   "outputs": [
    {
     "data": {
      "text/plain": [
       "{'Family': 'Respiratory',\n",
       " 'Type': 'ObstructiveApnea',\n",
       " 'Start': '41',\n",
       " 'Duration': '13.5'}"
      ]
     },
     "execution_count": 14,
     "metadata": {},
     "output_type": "execute_result"
    }
   ],
   "source": [
    "respiratory[0]"
   ]
  },
  {
   "cell_type": "code",
   "execution_count": null,
   "metadata": {},
   "outputs": [],
   "source": []
  }
 ],
 "metadata": {
  "kernelspec": {
   "display_name": "rem_projects",
   "language": "python",
   "name": "python3"
  },
  "language_info": {
   "codemirror_mode": {
    "name": "ipython",
    "version": 3
   },
   "file_extension": ".py",
   "mimetype": "text/x-python",
   "name": "python",
   "nbconvert_exporter": "python",
   "pygments_lexer": "ipython3",
   "version": "3.9.0"
  },
  "orig_nbformat": 4,
  "vscode": {
   "interpreter": {
    "hash": "0c617eccd62692b7a47c14a033a53f7184055873b06c730cfdbda6b4494bc8b6"
   }
  }
 },
 "nbformat": 4,
 "nbformat_minor": 2
}

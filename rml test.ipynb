{
 "cells": [
  {
   "cell_type": "code",
   "execution_count": 1,
   "metadata": {},
   "outputs": [],
   "source": [
    "import xml.etree.ElementTree as ET"
   ]
  },
  {
   "cell_type": "code",
   "execution_count": 2,
   "metadata": {},
   "outputs": [],
   "source": [
    "rml_file_path = './data/psg_audio/rml_clean/00000995-100507.rml'"
   ]
  },
  {
   "cell_type": "code",
   "execution_count": 3,
   "metadata": {},
   "outputs": [],
   "source": [
    "tree = ET.parse(rml_file_path)\n",
    "root = tree.getroot()"
   ]
  },
  {
   "cell_type": "code",
   "execution_count": 4,
   "metadata": {},
   "outputs": [
    {
     "name": "stdout",
     "output_type": "stream",
     "text": [
      "{http://www.respironics.com/PatientStudy.xsd}PatientStudy 6\n"
     ]
    }
   ],
   "source": [
    "print(root.tag, root.attrib.get('Version'))"
   ]
  },
  {
   "cell_type": "code",
   "execution_count": 5,
   "metadata": {},
   "outputs": [
    {
     "data": {
      "text/plain": [
       "['Patient',\n",
       " 'ChannelConfig',\n",
       " 'Acquisition',\n",
       " 'CustomEventTypeDefs',\n",
       " 'AcquisitionCommentDefs',\n",
       " 'ScoringData',\n",
       " 'AnalysisOptions',\n",
       " 'ReportCalcOptions',\n",
       " 'EventFilters',\n",
       " 'TrendChannelMappings',\n",
       " 'BodyPositionState']"
      ]
     },
     "execution_count": 5,
     "metadata": {},
     "output_type": "execute_result"
    }
   ],
   "source": [
    "taglists = []\n",
    "\n",
    "for child in root:\n",
    "    taglists.append(child.tag.split('}')[1]) \n",
    "\n",
    "taglists"
   ]
  },
  {
   "cell_type": "code",
   "execution_count": 6,
   "metadata": {},
   "outputs": [
    {
     "name": "stdout",
     "output_type": "stream",
     "text": [
      "{http://www.respironics.com/PatientStudy.xsd}ConfigName LDxS_PSG_AASM-C3-C4\n",
      "{http://www.respironics.com/PatientStudy.xsd}Channels \n",
      "         \n"
     ]
    }
   ],
   "source": [
    "for child in root[1]:\n",
    "    print(child.tag, child.text)"
   ]
  },
  {
   "cell_type": "code",
   "execution_count": 7,
   "metadata": {},
   "outputs": [
    {
     "name": "stdout",
     "output_type": "stream",
     "text": [
      "Female\n"
     ]
    }
   ],
   "source": [
    "ns = { 'study' : 'http://www.respironics.com/PatientStudy.xsd'}\n",
    "\n",
    "for patient in root.findall('study:Patient', ns):\n",
    "    gender = patient.find('study:Gender', ns)\n",
    "    print(gender.text)"
   ]
  },
  {
   "cell_type": "code",
   "execution_count": 8,
   "metadata": {},
   "outputs": [
    {
     "name": "stdout",
     "output_type": "stream",
     "text": [
      "995\n"
     ]
    }
   ],
   "source": [
    "for AcqNumber in root.findall('study:Acquisition', ns):\n",
    "    number = AcqNumber.find('study:AcqNumber', ns)\n",
    "    print(number.text)"
   ]
  },
  {
   "cell_type": "code",
   "execution_count": 9,
   "metadata": {},
   "outputs": [
    {
     "name": "stdout",
     "output_type": "stream",
     "text": [
      "['995']\n"
     ]
    }
   ],
   "source": [
    "ns = { 'study' : 'http://www.respironics.com/PatientStudy.xsd'}\n",
    "\n",
    "acq = root.findall('study:Acquisition', ns)\n",
    "\n",
    "acq_number = [x.find('study:AcqNumber', ns).text for x in acq]\n",
    "\n",
    "print(acq_number)"
   ]
  },
  {
   "cell_type": "code",
   "execution_count": 10,
   "metadata": {},
   "outputs": [
    {
     "data": {
      "text/plain": [
       "<Element '{http://www.respironics.com/PatientStudy.xsd}Segments' at 0x00000165D6E17590>"
      ]
     },
     "execution_count": 10,
     "metadata": {},
     "output_type": "execute_result"
    }
   ],
   "source": [
    "root.find('study:Acquisition', ns).find('study:Sessions', ns).find('study:Session', ns).find('study:Segments', ns)"
   ]
  },
  {
   "cell_type": "code",
   "execution_count": 11,
   "metadata": {},
   "outputs": [
    {
     "name": "stdout",
     "output_type": "stream",
     "text": [
      "['3600', '3600', '3600', '3600', '3491']\n"
     ]
    }
   ],
   "source": [
    "segment = root.find('study:Acquisition', ns).find('study:Sessions', ns).find('study:Session', ns).find('study:Segments', ns)\n",
    "\n",
    "duration = [x.find('study:Duration', ns).text for x in segment]\n",
    "\n",
    "print(duration)"
   ]
  },
  {
   "cell_type": "code",
   "execution_count": 34,
   "metadata": {},
   "outputs": [],
   "source": [
    "stages = root.find('study:ScoringData', ns).find('study:StagingData', ns).find('study:UserStaging', ns).find('study:NeuroAdultAASMStaging', ns).findall('study:Stage', ns)\n",
    "\n",
    "all_sleep = [x.attrib for x in stages]\n",
    "\n",
    "for i in range(len(all_sleep)):\n",
    "    if i < len(all_sleep) - 1 :\n",
    "        all_sleep[i]['End'] = int(all_sleep[i + 1]['Start'])\n",
    "    else:\n",
    "        all_sleep[i]['End'] = int(all_sleep[i]['Start'])\n",
    "\n",
    "wake = [x for x in all_sleep if x.get('Type') == 'Wake']\n",
    "\n",
    "rem = [x for x in all_sleep if x.get('Type') == 'REM']\n"
   ]
  },
  {
   "cell_type": "code",
   "execution_count": null,
   "metadata": {},
   "outputs": [],
   "source": [
    "all_sleep"
   ]
  },
  {
   "cell_type": "code",
   "execution_count": 13,
   "metadata": {},
   "outputs": [],
   "source": [
    "events = root.find('study:ScoringData', ns).find('study:Events', ns).findall('study:Event', ns)\n",
    "\n",
    "respiratory = [x.attrib for x in events if x.attrib.get('Family') == 'Respiratory']\n",
    "\n",
    "for i in range(len(respiratory)):\n",
    "    respiratory[i]['End'] = float(respiratory[i]['Start']) + float(respiratory[i]['Duration'])"
   ]
  },
  {
   "cell_type": "code",
   "execution_count": 14,
   "metadata": {},
   "outputs": [
    {
     "data": {
      "text/plain": [
       "{'Family': 'Respiratory',\n",
       " 'Type': 'Hypopnea',\n",
       " 'Start': '3752.5',\n",
       " 'Duration': '10'}"
      ]
     },
     "execution_count": 14,
     "metadata": {},
     "output_type": "execute_result"
    }
   ],
   "source": [
    "respiratory[0]"
   ]
  },
  {
   "cell_type": "code",
   "execution_count": 15,
   "metadata": {},
   "outputs": [],
   "source": [
    "# respiratory[0]['End'] = float(respiratory[0]['Start']) + float(respiratory[0]['Duration'])"
   ]
  },
  {
   "cell_type": "code",
   "execution_count": 16,
   "metadata": {},
   "outputs": [],
   "source": [
    "for i in range(len(respiratory)):\n",
    "    respiratory[i]['End'] = float(respiratory[i]['Start']) + float(respiratory[i]['Duration'])"
   ]
  },
  {
   "cell_type": "code",
   "execution_count": 18,
   "metadata": {},
   "outputs": [
    {
     "data": {
      "text/plain": [
       "{'Family': 'Respiratory',\n",
       " 'Type': 'Hypopnea',\n",
       " 'Start': '3752.5',\n",
       " 'Duration': '10',\n",
       " 'End': 3762.5}"
      ]
     },
     "execution_count": 18,
     "metadata": {},
     "output_type": "execute_result"
    }
   ],
   "source": [
    "respiratory[0]"
   ]
  },
  {
   "cell_type": "code",
   "execution_count": 57,
   "metadata": {},
   "outputs": [
    {
     "data": {
      "text/plain": [
       "str"
      ]
     },
     "execution_count": 57,
     "metadata": {},
     "output_type": "execute_result"
    }
   ],
   "source": [
    "type(wake[0]['Start'])"
   ]
  },
  {
   "cell_type": "code",
   "execution_count": 37,
   "metadata": {},
   "outputs": [],
   "source": [
    "import pandas as pd"
   ]
  },
  {
   "cell_type": "code",
   "execution_count": 73,
   "metadata": {},
   "outputs": [],
   "source": [
    "# wake_df = pd.DataFrame.from_dict(wake)\n",
    "# rem_df = pd.DataFrame.from_dict(rem)\n",
    "\n",
    "# stages_df = pd.concat([wake_df, rem_df], axis=0).astype({'Start' : 'int' , 'End' : 'int'}).sort_values(by='Start').reset_index(drop=True)\n",
    "\n",
    "# stages_df['patient_id'] = 0\n",
    "# patient_id = {0 : acq_number}\n",
    "\n",
    "# stages_df['patient_id'] = stages_df['patient_id'].replace(patient_id)\n",
    "\n",
    "# breath_df = pd.DataFrame.from_dict(respiratory).astype({'Start' : 'float' , 'End' : 'float'}).sort_values(by='Start').reset_index(drop=True).drop('Family', axis=1)"
   ]
  },
  {
   "cell_type": "code",
   "execution_count": 147,
   "metadata": {},
   "outputs": [],
   "source": [
    "stages_df = pd.DataFrame.from_dict(all_sleep).astype({'Start' : 'int' , 'End' : 'int'}).sort_values(by='Start').reset_index(drop=True)\n",
    "\n",
    "stages_df['patient_id'] = 0\n",
    "patient_id = {0 : acq_number}\n",
    "\n",
    "stages_df['patient_id'] = stages_df['patient_id'].replace(patient_id)\n",
    "\n",
    "breath_df = pd.DataFrame.from_dict(respiratory).astype({'Start' : 'float' , 'End' : 'float', 'Duration' : 'float'}).sort_values(by='Start').reset_index(drop=True).drop('Family', axis=1)"
   ]
  },
  {
   "cell_type": "code",
   "execution_count": 148,
   "metadata": {},
   "outputs": [
    {
     "data": {
      "text/html": [
       "<div>\n",
       "<style scoped>\n",
       "    .dataframe tbody tr th:only-of-type {\n",
       "        vertical-align: middle;\n",
       "    }\n",
       "\n",
       "    .dataframe tbody tr th {\n",
       "        vertical-align: top;\n",
       "    }\n",
       "\n",
       "    .dataframe thead th {\n",
       "        text-align: right;\n",
       "    }\n",
       "</style>\n",
       "<table border=\"1\" class=\"dataframe\">\n",
       "  <thead>\n",
       "    <tr style=\"text-align: right;\">\n",
       "      <th></th>\n",
       "      <th>Type</th>\n",
       "      <th>Start</th>\n",
       "      <th>End</th>\n",
       "      <th>patient_id</th>\n",
       "    </tr>\n",
       "  </thead>\n",
       "  <tbody>\n",
       "    <tr>\n",
       "      <th>0</th>\n",
       "      <td>Wake</td>\n",
       "      <td>0</td>\n",
       "      <td>210</td>\n",
       "      <td>995</td>\n",
       "    </tr>\n",
       "    <tr>\n",
       "      <th>1</th>\n",
       "      <td>NonREM1</td>\n",
       "      <td>210</td>\n",
       "      <td>300</td>\n",
       "      <td>995</td>\n",
       "    </tr>\n",
       "    <tr>\n",
       "      <th>2</th>\n",
       "      <td>NonREM2</td>\n",
       "      <td>300</td>\n",
       "      <td>870</td>\n",
       "      <td>995</td>\n",
       "    </tr>\n",
       "    <tr>\n",
       "      <th>3</th>\n",
       "      <td>Wake</td>\n",
       "      <td>870</td>\n",
       "      <td>930</td>\n",
       "      <td>995</td>\n",
       "    </tr>\n",
       "    <tr>\n",
       "      <th>4</th>\n",
       "      <td>NonREM1</td>\n",
       "      <td>930</td>\n",
       "      <td>960</td>\n",
       "      <td>995</td>\n",
       "    </tr>\n",
       "    <tr>\n",
       "      <th>5</th>\n",
       "      <td>NonREM2</td>\n",
       "      <td>960</td>\n",
       "      <td>1920</td>\n",
       "      <td>995</td>\n",
       "    </tr>\n",
       "    <tr>\n",
       "      <th>6</th>\n",
       "      <td>Wake</td>\n",
       "      <td>1920</td>\n",
       "      <td>1980</td>\n",
       "      <td>995</td>\n",
       "    </tr>\n",
       "    <tr>\n",
       "      <th>7</th>\n",
       "      <td>NonREM1</td>\n",
       "      <td>1980</td>\n",
       "      <td>2010</td>\n",
       "      <td>995</td>\n",
       "    </tr>\n",
       "    <tr>\n",
       "      <th>8</th>\n",
       "      <td>NonREM2</td>\n",
       "      <td>2010</td>\n",
       "      <td>3300</td>\n",
       "      <td>995</td>\n",
       "    </tr>\n",
       "    <tr>\n",
       "      <th>9</th>\n",
       "      <td>NonREM1</td>\n",
       "      <td>3300</td>\n",
       "      <td>3330</td>\n",
       "      <td>995</td>\n",
       "    </tr>\n",
       "    <tr>\n",
       "      <th>10</th>\n",
       "      <td>Wake</td>\n",
       "      <td>3330</td>\n",
       "      <td>3360</td>\n",
       "      <td>995</td>\n",
       "    </tr>\n",
       "    <tr>\n",
       "      <th>11</th>\n",
       "      <td>NonREM1</td>\n",
       "      <td>3360</td>\n",
       "      <td>3420</td>\n",
       "      <td>995</td>\n",
       "    </tr>\n",
       "    <tr>\n",
       "      <th>12</th>\n",
       "      <td>NonREM2</td>\n",
       "      <td>3420</td>\n",
       "      <td>5220</td>\n",
       "      <td>995</td>\n",
       "    </tr>\n",
       "    <tr>\n",
       "      <th>13</th>\n",
       "      <td>NonREM3</td>\n",
       "      <td>5220</td>\n",
       "      <td>5400</td>\n",
       "      <td>995</td>\n",
       "    </tr>\n",
       "    <tr>\n",
       "      <th>14</th>\n",
       "      <td>NonREM2</td>\n",
       "      <td>5400</td>\n",
       "      <td>5460</td>\n",
       "      <td>995</td>\n",
       "    </tr>\n",
       "    <tr>\n",
       "      <th>15</th>\n",
       "      <td>NonREM3</td>\n",
       "      <td>5460</td>\n",
       "      <td>5520</td>\n",
       "      <td>995</td>\n",
       "    </tr>\n",
       "    <tr>\n",
       "      <th>16</th>\n",
       "      <td>NonREM2</td>\n",
       "      <td>5520</td>\n",
       "      <td>5850</td>\n",
       "      <td>995</td>\n",
       "    </tr>\n",
       "    <tr>\n",
       "      <th>17</th>\n",
       "      <td>NonREM3</td>\n",
       "      <td>5850</td>\n",
       "      <td>6120</td>\n",
       "      <td>995</td>\n",
       "    </tr>\n",
       "    <tr>\n",
       "      <th>18</th>\n",
       "      <td>NonREM2</td>\n",
       "      <td>6120</td>\n",
       "      <td>6540</td>\n",
       "      <td>995</td>\n",
       "    </tr>\n",
       "    <tr>\n",
       "      <th>19</th>\n",
       "      <td>NonREM3</td>\n",
       "      <td>6540</td>\n",
       "      <td>6630</td>\n",
       "      <td>995</td>\n",
       "    </tr>\n",
       "    <tr>\n",
       "      <th>20</th>\n",
       "      <td>NonREM2</td>\n",
       "      <td>6630</td>\n",
       "      <td>6690</td>\n",
       "      <td>995</td>\n",
       "    </tr>\n",
       "    <tr>\n",
       "      <th>21</th>\n",
       "      <td>NonREM3</td>\n",
       "      <td>6690</td>\n",
       "      <td>6750</td>\n",
       "      <td>995</td>\n",
       "    </tr>\n",
       "    <tr>\n",
       "      <th>22</th>\n",
       "      <td>NonREM2</td>\n",
       "      <td>6750</td>\n",
       "      <td>6930</td>\n",
       "      <td>995</td>\n",
       "    </tr>\n",
       "    <tr>\n",
       "      <th>23</th>\n",
       "      <td>NonREM1</td>\n",
       "      <td>6930</td>\n",
       "      <td>6960</td>\n",
       "      <td>995</td>\n",
       "    </tr>\n",
       "    <tr>\n",
       "      <th>24</th>\n",
       "      <td>Wake</td>\n",
       "      <td>6960</td>\n",
       "      <td>6990</td>\n",
       "      <td>995</td>\n",
       "    </tr>\n",
       "    <tr>\n",
       "      <th>25</th>\n",
       "      <td>NonREM2</td>\n",
       "      <td>6990</td>\n",
       "      <td>9150</td>\n",
       "      <td>995</td>\n",
       "    </tr>\n",
       "    <tr>\n",
       "      <th>26</th>\n",
       "      <td>Wake</td>\n",
       "      <td>9150</td>\n",
       "      <td>9180</td>\n",
       "      <td>995</td>\n",
       "    </tr>\n",
       "    <tr>\n",
       "      <th>27</th>\n",
       "      <td>NonREM1</td>\n",
       "      <td>9180</td>\n",
       "      <td>9210</td>\n",
       "      <td>995</td>\n",
       "    </tr>\n",
       "    <tr>\n",
       "      <th>28</th>\n",
       "      <td>NonREM2</td>\n",
       "      <td>9210</td>\n",
       "      <td>11490</td>\n",
       "      <td>995</td>\n",
       "    </tr>\n",
       "    <tr>\n",
       "      <th>29</th>\n",
       "      <td>NonREM1</td>\n",
       "      <td>11490</td>\n",
       "      <td>11580</td>\n",
       "      <td>995</td>\n",
       "    </tr>\n",
       "    <tr>\n",
       "      <th>30</th>\n",
       "      <td>NonREM2</td>\n",
       "      <td>11580</td>\n",
       "      <td>11820</td>\n",
       "      <td>995</td>\n",
       "    </tr>\n",
       "    <tr>\n",
       "      <th>31</th>\n",
       "      <td>REM</td>\n",
       "      <td>11820</td>\n",
       "      <td>12300</td>\n",
       "      <td>995</td>\n",
       "    </tr>\n",
       "    <tr>\n",
       "      <th>32</th>\n",
       "      <td>NonREM2</td>\n",
       "      <td>12300</td>\n",
       "      <td>12390</td>\n",
       "      <td>995</td>\n",
       "    </tr>\n",
       "    <tr>\n",
       "      <th>33</th>\n",
       "      <td>REM</td>\n",
       "      <td>12390</td>\n",
       "      <td>12570</td>\n",
       "      <td>995</td>\n",
       "    </tr>\n",
       "    <tr>\n",
       "      <th>34</th>\n",
       "      <td>Wake</td>\n",
       "      <td>12570</td>\n",
       "      <td>12630</td>\n",
       "      <td>995</td>\n",
       "    </tr>\n",
       "    <tr>\n",
       "      <th>35</th>\n",
       "      <td>NonREM2</td>\n",
       "      <td>12630</td>\n",
       "      <td>12780</td>\n",
       "      <td>995</td>\n",
       "    </tr>\n",
       "    <tr>\n",
       "      <th>36</th>\n",
       "      <td>Wake</td>\n",
       "      <td>12780</td>\n",
       "      <td>12810</td>\n",
       "      <td>995</td>\n",
       "    </tr>\n",
       "    <tr>\n",
       "      <th>37</th>\n",
       "      <td>NonREM2</td>\n",
       "      <td>12810</td>\n",
       "      <td>13140</td>\n",
       "      <td>995</td>\n",
       "    </tr>\n",
       "    <tr>\n",
       "      <th>38</th>\n",
       "      <td>Wake</td>\n",
       "      <td>13140</td>\n",
       "      <td>13200</td>\n",
       "      <td>995</td>\n",
       "    </tr>\n",
       "    <tr>\n",
       "      <th>39</th>\n",
       "      <td>NonREM2</td>\n",
       "      <td>13200</td>\n",
       "      <td>13380</td>\n",
       "      <td>995</td>\n",
       "    </tr>\n",
       "    <tr>\n",
       "      <th>40</th>\n",
       "      <td>Wake</td>\n",
       "      <td>13380</td>\n",
       "      <td>13470</td>\n",
       "      <td>995</td>\n",
       "    </tr>\n",
       "    <tr>\n",
       "      <th>41</th>\n",
       "      <td>NonREM1</td>\n",
       "      <td>13470</td>\n",
       "      <td>13500</td>\n",
       "      <td>995</td>\n",
       "    </tr>\n",
       "    <tr>\n",
       "      <th>42</th>\n",
       "      <td>NonREM2</td>\n",
       "      <td>13500</td>\n",
       "      <td>15570</td>\n",
       "      <td>995</td>\n",
       "    </tr>\n",
       "    <tr>\n",
       "      <th>43</th>\n",
       "      <td>Wake</td>\n",
       "      <td>15570</td>\n",
       "      <td>15600</td>\n",
       "      <td>995</td>\n",
       "    </tr>\n",
       "    <tr>\n",
       "      <th>44</th>\n",
       "      <td>NonREM1</td>\n",
       "      <td>15600</td>\n",
       "      <td>15630</td>\n",
       "      <td>995</td>\n",
       "    </tr>\n",
       "    <tr>\n",
       "      <th>45</th>\n",
       "      <td>NonREM2</td>\n",
       "      <td>15630</td>\n",
       "      <td>17400</td>\n",
       "      <td>995</td>\n",
       "    </tr>\n",
       "    <tr>\n",
       "      <th>46</th>\n",
       "      <td>REM</td>\n",
       "      <td>17400</td>\n",
       "      <td>17700</td>\n",
       "      <td>995</td>\n",
       "    </tr>\n",
       "    <tr>\n",
       "      <th>47</th>\n",
       "      <td>Wake</td>\n",
       "      <td>17700</td>\n",
       "      <td>17730</td>\n",
       "      <td>995</td>\n",
       "    </tr>\n",
       "    <tr>\n",
       "      <th>48</th>\n",
       "      <td>NonREM1</td>\n",
       "      <td>17730</td>\n",
       "      <td>17760</td>\n",
       "      <td>995</td>\n",
       "    </tr>\n",
       "    <tr>\n",
       "      <th>49</th>\n",
       "      <td>NonREM2</td>\n",
       "      <td>17760</td>\n",
       "      <td>17880</td>\n",
       "      <td>995</td>\n",
       "    </tr>\n",
       "    <tr>\n",
       "      <th>50</th>\n",
       "      <td>Wake</td>\n",
       "      <td>17880</td>\n",
       "      <td>17880</td>\n",
       "      <td>995</td>\n",
       "    </tr>\n",
       "  </tbody>\n",
       "</table>\n",
       "</div>"
      ],
      "text/plain": [
       "       Type  Start    End patient_id\n",
       "0      Wake      0    210        995\n",
       "1   NonREM1    210    300        995\n",
       "2   NonREM2    300    870        995\n",
       "3      Wake    870    930        995\n",
       "4   NonREM1    930    960        995\n",
       "5   NonREM2    960   1920        995\n",
       "6      Wake   1920   1980        995\n",
       "7   NonREM1   1980   2010        995\n",
       "8   NonREM2   2010   3300        995\n",
       "9   NonREM1   3300   3330        995\n",
       "10     Wake   3330   3360        995\n",
       "11  NonREM1   3360   3420        995\n",
       "12  NonREM2   3420   5220        995\n",
       "13  NonREM3   5220   5400        995\n",
       "14  NonREM2   5400   5460        995\n",
       "15  NonREM3   5460   5520        995\n",
       "16  NonREM2   5520   5850        995\n",
       "17  NonREM3   5850   6120        995\n",
       "18  NonREM2   6120   6540        995\n",
       "19  NonREM3   6540   6630        995\n",
       "20  NonREM2   6630   6690        995\n",
       "21  NonREM3   6690   6750        995\n",
       "22  NonREM2   6750   6930        995\n",
       "23  NonREM1   6930   6960        995\n",
       "24     Wake   6960   6990        995\n",
       "25  NonREM2   6990   9150        995\n",
       "26     Wake   9150   9180        995\n",
       "27  NonREM1   9180   9210        995\n",
       "28  NonREM2   9210  11490        995\n",
       "29  NonREM1  11490  11580        995\n",
       "30  NonREM2  11580  11820        995\n",
       "31      REM  11820  12300        995\n",
       "32  NonREM2  12300  12390        995\n",
       "33      REM  12390  12570        995\n",
       "34     Wake  12570  12630        995\n",
       "35  NonREM2  12630  12780        995\n",
       "36     Wake  12780  12810        995\n",
       "37  NonREM2  12810  13140        995\n",
       "38     Wake  13140  13200        995\n",
       "39  NonREM2  13200  13380        995\n",
       "40     Wake  13380  13470        995\n",
       "41  NonREM1  13470  13500        995\n",
       "42  NonREM2  13500  15570        995\n",
       "43     Wake  15570  15600        995\n",
       "44  NonREM1  15600  15630        995\n",
       "45  NonREM2  15630  17400        995\n",
       "46      REM  17400  17700        995\n",
       "47     Wake  17700  17730        995\n",
       "48  NonREM1  17730  17760        995\n",
       "49  NonREM2  17760  17880        995\n",
       "50     Wake  17880  17880        995"
      ]
     },
     "execution_count": 148,
     "metadata": {},
     "output_type": "execute_result"
    }
   ],
   "source": [
    "stages_df"
   ]
  },
  {
   "cell_type": "code",
   "execution_count": 150,
   "metadata": {},
   "outputs": [
    {
     "data": {
      "text/html": [
       "<div>\n",
       "<style scoped>\n",
       "    .dataframe tbody tr th:only-of-type {\n",
       "        vertical-align: middle;\n",
       "    }\n",
       "\n",
       "    .dataframe tbody tr th {\n",
       "        vertical-align: top;\n",
       "    }\n",
       "\n",
       "    .dataframe thead th {\n",
       "        text-align: right;\n",
       "    }\n",
       "</style>\n",
       "<table border=\"1\" class=\"dataframe\">\n",
       "  <thead>\n",
       "    <tr style=\"text-align: right;\">\n",
       "      <th></th>\n",
       "      <th>Type</th>\n",
       "      <th>Start</th>\n",
       "      <th>Duration</th>\n",
       "      <th>End</th>\n",
       "    </tr>\n",
       "  </thead>\n",
       "  <tbody>\n",
       "    <tr>\n",
       "      <th>0</th>\n",
       "      <td>Hypopnea</td>\n",
       "      <td>3752.5</td>\n",
       "      <td>10.0</td>\n",
       "      <td>3762.5</td>\n",
       "    </tr>\n",
       "    <tr>\n",
       "      <th>1</th>\n",
       "      <td>Hypopnea</td>\n",
       "      <td>3783.0</td>\n",
       "      <td>12.0</td>\n",
       "      <td>3795.0</td>\n",
       "    </tr>\n",
       "    <tr>\n",
       "      <th>2</th>\n",
       "      <td>Hypopnea</td>\n",
       "      <td>3813.5</td>\n",
       "      <td>10.5</td>\n",
       "      <td>3824.0</td>\n",
       "    </tr>\n",
       "    <tr>\n",
       "      <th>3</th>\n",
       "      <td>Hypopnea</td>\n",
       "      <td>3842.0</td>\n",
       "      <td>10.0</td>\n",
       "      <td>3852.0</td>\n",
       "    </tr>\n",
       "    <tr>\n",
       "      <th>4</th>\n",
       "      <td>Hypopnea</td>\n",
       "      <td>3878.0</td>\n",
       "      <td>11.0</td>\n",
       "      <td>3889.0</td>\n",
       "    </tr>\n",
       "    <tr>\n",
       "      <th>...</th>\n",
       "      <td>...</td>\n",
       "      <td>...</td>\n",
       "      <td>...</td>\n",
       "      <td>...</td>\n",
       "    </tr>\n",
       "    <tr>\n",
       "      <th>206</th>\n",
       "      <td>ObstructiveApnea</td>\n",
       "      <td>17610.0</td>\n",
       "      <td>10.0</td>\n",
       "      <td>17620.0</td>\n",
       "    </tr>\n",
       "    <tr>\n",
       "      <th>207</th>\n",
       "      <td>ObstructiveApnea</td>\n",
       "      <td>17642.5</td>\n",
       "      <td>16.0</td>\n",
       "      <td>17658.5</td>\n",
       "    </tr>\n",
       "    <tr>\n",
       "      <th>208</th>\n",
       "      <td>ObstructiveApnea</td>\n",
       "      <td>17682.0</td>\n",
       "      <td>18.5</td>\n",
       "      <td>17700.5</td>\n",
       "    </tr>\n",
       "    <tr>\n",
       "      <th>209</th>\n",
       "      <td>Hypopnea</td>\n",
       "      <td>17820.5</td>\n",
       "      <td>11.5</td>\n",
       "      <td>17832.0</td>\n",
       "    </tr>\n",
       "    <tr>\n",
       "      <th>210</th>\n",
       "      <td>Hypopnea</td>\n",
       "      <td>17855.0</td>\n",
       "      <td>12.0</td>\n",
       "      <td>17867.0</td>\n",
       "    </tr>\n",
       "  </tbody>\n",
       "</table>\n",
       "<p>211 rows × 4 columns</p>\n",
       "</div>"
      ],
      "text/plain": [
       "                 Type    Start  Duration      End\n",
       "0            Hypopnea   3752.5      10.0   3762.5\n",
       "1            Hypopnea   3783.0      12.0   3795.0\n",
       "2            Hypopnea   3813.5      10.5   3824.0\n",
       "3            Hypopnea   3842.0      10.0   3852.0\n",
       "4            Hypopnea   3878.0      11.0   3889.0\n",
       "..                ...      ...       ...      ...\n",
       "206  ObstructiveApnea  17610.0      10.0  17620.0\n",
       "207  ObstructiveApnea  17642.5      16.0  17658.5\n",
       "208  ObstructiveApnea  17682.0      18.5  17700.5\n",
       "209          Hypopnea  17820.5      11.5  17832.0\n",
       "210          Hypopnea  17855.0      12.0  17867.0\n",
       "\n",
       "[211 rows x 4 columns]"
      ]
     },
     "execution_count": 150,
     "metadata": {},
     "output_type": "execute_result"
    }
   ],
   "source": [
    "breath_df"
   ]
  },
  {
   "cell_type": "code",
   "execution_count": 151,
   "metadata": {},
   "outputs": [],
   "source": [
    "def if_start_end(values, df):\n",
    "    for i in range(len(df)):\n",
    "        if df[['Start', 'End']].loc[i][0] <= values <= df[['Start', 'End']].loc[i][1]:\n",
    "            pass\n",
    "        else:\n",
    "            return values == 'no'"
   ]
  },
  {
   "cell_type": "code",
   "execution_count": 157,
   "metadata": {},
   "outputs": [
    {
     "data": {
      "text/html": [
       "<div>\n",
       "<style scoped>\n",
       "    .dataframe tbody tr th:only-of-type {\n",
       "        vertical-align: middle;\n",
       "    }\n",
       "\n",
       "    .dataframe tbody tr th {\n",
       "        vertical-align: top;\n",
       "    }\n",
       "\n",
       "    .dataframe thead th {\n",
       "        text-align: right;\n",
       "    }\n",
       "</style>\n",
       "<table border=\"1\" class=\"dataframe\">\n",
       "  <thead>\n",
       "    <tr style=\"text-align: right;\">\n",
       "      <th></th>\n",
       "      <th>Type</th>\n",
       "      <th>Start</th>\n",
       "      <th>Duration</th>\n",
       "      <th>End</th>\n",
       "    </tr>\n",
       "  </thead>\n",
       "  <tbody>\n",
       "    <tr>\n",
       "      <th>71</th>\n",
       "      <td>Hypopnea</td>\n",
       "      <td>9104.5</td>\n",
       "      <td>18.0</td>\n",
       "      <td>9122.5</td>\n",
       "    </tr>\n",
       "  </tbody>\n",
       "</table>\n",
       "</div>"
      ],
      "text/plain": [
       "        Type   Start  Duration     End\n",
       "71  Hypopnea  9104.5      18.0  9122.5"
      ]
     },
     "execution_count": 157,
     "metadata": {},
     "output_type": "execute_result"
    }
   ],
   "source": [
    "breath_df.loc[breath_df['Type'] == 'Hypopnea'].loc[breath_df['Duration'] == 18]"
   ]
  },
  {
   "cell_type": "code",
   "execution_count": 158,
   "metadata": {},
   "outputs": [
    {
     "data": {
      "text/plain": [
       "Hypopnea            131\n",
       "ObstructiveApnea     67\n",
       "MixedApnea           13\n",
       "Name: Type, dtype: int64"
      ]
     },
     "execution_count": 158,
     "metadata": {},
     "output_type": "execute_result"
    }
   ],
   "source": [
    "breath_df['Type'].value_counts()"
   ]
  },
  {
   "cell_type": "code",
   "execution_count": 161,
   "metadata": {},
   "outputs": [
    {
     "name": "stdout",
     "output_type": "stream",
     "text": [
      "21.0 17.5\n"
     ]
    }
   ],
   "source": [
    "print(breath_df.loc[breath_df['Type'] == 'ObstructiveApnea'].Duration.max(),\n",
    "breath_df.loc[breath_df['Type'] == 'MixedApnea'].Duration.max())"
   ]
  },
  {
   "cell_type": "code",
   "execution_count": 163,
   "metadata": {},
   "outputs": [
    {
     "data": {
      "text/html": [
       "<div>\n",
       "<style scoped>\n",
       "    .dataframe tbody tr th:only-of-type {\n",
       "        vertical-align: middle;\n",
       "    }\n",
       "\n",
       "    .dataframe tbody tr th {\n",
       "        vertical-align: top;\n",
       "    }\n",
       "\n",
       "    .dataframe thead th {\n",
       "        text-align: right;\n",
       "    }\n",
       "</style>\n",
       "<table border=\"1\" class=\"dataframe\">\n",
       "  <thead>\n",
       "    <tr style=\"text-align: right;\">\n",
       "      <th></th>\n",
       "      <th>Type</th>\n",
       "      <th>Start</th>\n",
       "      <th>Duration</th>\n",
       "      <th>End</th>\n",
       "    </tr>\n",
       "  </thead>\n",
       "  <tbody>\n",
       "    <tr>\n",
       "      <th>71</th>\n",
       "      <td>Hypopnea</td>\n",
       "      <td>9104.5</td>\n",
       "      <td>18.0</td>\n",
       "      <td>9122.5</td>\n",
       "    </tr>\n",
       "  </tbody>\n",
       "</table>\n",
       "</div>"
      ],
      "text/plain": [
       "        Type   Start  Duration     End\n",
       "71  Hypopnea  9104.5      18.0  9122.5"
      ]
     },
     "execution_count": 163,
     "metadata": {},
     "output_type": "execute_result"
    }
   ],
   "source": [
    "breath_df.loc[breath_df['Type'] == 'Hypopnea'].loc[breath_df['Duration'] == 18]\n"
   ]
  },
  {
   "cell_type": "code",
   "execution_count": 164,
   "metadata": {},
   "outputs": [
    {
     "data": {
      "text/html": [
       "<div>\n",
       "<style scoped>\n",
       "    .dataframe tbody tr th:only-of-type {\n",
       "        vertical-align: middle;\n",
       "    }\n",
       "\n",
       "    .dataframe tbody tr th {\n",
       "        vertical-align: top;\n",
       "    }\n",
       "\n",
       "    .dataframe thead th {\n",
       "        text-align: right;\n",
       "    }\n",
       "</style>\n",
       "<table border=\"1\" class=\"dataframe\">\n",
       "  <thead>\n",
       "    <tr style=\"text-align: right;\">\n",
       "      <th></th>\n",
       "      <th>Type</th>\n",
       "      <th>Start</th>\n",
       "      <th>Duration</th>\n",
       "      <th>End</th>\n",
       "    </tr>\n",
       "  </thead>\n",
       "  <tbody>\n",
       "    <tr>\n",
       "      <th>205</th>\n",
       "      <td>ObstructiveApnea</td>\n",
       "      <td>17539.5</td>\n",
       "      <td>21.0</td>\n",
       "      <td>17560.5</td>\n",
       "    </tr>\n",
       "  </tbody>\n",
       "</table>\n",
       "</div>"
      ],
      "text/plain": [
       "                 Type    Start  Duration      End\n",
       "205  ObstructiveApnea  17539.5      21.0  17560.5"
      ]
     },
     "execution_count": 164,
     "metadata": {},
     "output_type": "execute_result"
    }
   ],
   "source": [
    "breath_df.loc[breath_df['Type'] == 'ObstructiveApnea'].loc[breath_df['Duration'] == 21]"
   ]
  },
  {
   "cell_type": "code",
   "execution_count": 165,
   "metadata": {},
   "outputs": [
    {
     "data": {
      "text/html": [
       "<div>\n",
       "<style scoped>\n",
       "    .dataframe tbody tr th:only-of-type {\n",
       "        vertical-align: middle;\n",
       "    }\n",
       "\n",
       "    .dataframe tbody tr th {\n",
       "        vertical-align: top;\n",
       "    }\n",
       "\n",
       "    .dataframe thead th {\n",
       "        text-align: right;\n",
       "    }\n",
       "</style>\n",
       "<table border=\"1\" class=\"dataframe\">\n",
       "  <thead>\n",
       "    <tr style=\"text-align: right;\">\n",
       "      <th></th>\n",
       "      <th>Type</th>\n",
       "      <th>Start</th>\n",
       "      <th>Duration</th>\n",
       "      <th>End</th>\n",
       "    </tr>\n",
       "  </thead>\n",
       "  <tbody>\n",
       "    <tr>\n",
       "      <th>192</th>\n",
       "      <td>MixedApnea</td>\n",
       "      <td>16848.5</td>\n",
       "      <td>17.5</td>\n",
       "      <td>16866.0</td>\n",
       "    </tr>\n",
       "  </tbody>\n",
       "</table>\n",
       "</div>"
      ],
      "text/plain": [
       "           Type    Start  Duration      End\n",
       "192  MixedApnea  16848.5      17.5  16866.0"
      ]
     },
     "execution_count": 165,
     "metadata": {},
     "output_type": "execute_result"
    }
   ],
   "source": [
    "breath_df.loc[breath_df['Type'] == 'MixedApnea'].loc[breath_df['Duration'] == 17.5]"
   ]
  },
  {
   "cell_type": "code",
   "execution_count": 167,
   "metadata": {},
   "outputs": [
    {
     "name": "stdout",
     "output_type": "stream",
     "text": [
      "2.528888888888889 4.872083333333333 4.680138888888889\n"
     ]
    }
   ],
   "source": [
    "print(9104 / 3600, 17539.5 / 3600, 16848.5 / 3600)"
   ]
  },
  {
   "cell_type": "code",
   "execution_count": null,
   "metadata": {},
   "outputs": [],
   "source": []
  }
 ],
 "metadata": {
  "kernelspec": {
   "display_name": "rem_projects",
   "language": "python",
   "name": "python3"
  },
  "language_info": {
   "codemirror_mode": {
    "name": "ipython",
    "version": 3
   },
   "file_extension": ".py",
   "mimetype": "text/x-python",
   "name": "python",
   "nbconvert_exporter": "python",
   "pygments_lexer": "ipython3",
   "version": "3.9.0"
  },
  "orig_nbformat": 4,
  "vscode": {
   "interpreter": {
    "hash": "0c617eccd62692b7a47c14a033a53f7184055873b06c730cfdbda6b4494bc8b6"
   }
  }
 },
 "nbformat": 4,
 "nbformat_minor": 2
}
